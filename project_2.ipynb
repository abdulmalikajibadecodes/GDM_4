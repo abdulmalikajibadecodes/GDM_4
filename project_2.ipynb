{
 "cells": [
  {
   "cell_type": "markdown",
   "metadata": {},
   "source": [
    "## GDM PROJECT 2 \n",
    "\n",
    "BY: ABDULMALIK AJIBADE"
   ]
  },
  {
   "cell_type": "code",
   "execution_count": 1,
   "metadata": {},
   "outputs": [],
   "source": [
    "import pandas as pd \n",
    "import numpy as np \n",
    "import geopandas as gpd\n",
    "import matplotlib.pyplot as plt\n",
    "import sqlalchemy"
   ]
  },
  {
   "cell_type": "markdown",
   "metadata": {},
   "source": [
    "## Project Tasks"
   ]
  },
  {
   "cell_type": "markdown",
   "metadata": {},
   "source": [
    "### 1. Creation of the first SHP (instruments):\n",
    "\n",
    "- Open the 4 files with pandas.\n",
    "- Merge it in a new DataFrame.\n",
    "- Make a GeoDataFrame with all the instruments (convert geometry from EPSG:4978 to EPSG:4326).\n",
    "- Calculate the site_id and the instrument_id (add new columns).\n",
    "- Remove useless columns.\n",
    "- Save the data!"
   ]
  },
  {
   "cell_type": "code",
   "execution_count": 2,
   "metadata": {},
   "outputs": [],
   "source": [
    "inst_1 = pd.read_fwf('ITRF2020_DORIS_cart.txt')\n",
    "inst_2 = pd.read_fwf('ITRF2020_GNSS_cart.txt')\n",
    "inst_3 = pd.read_fwf('ITRF2020_SLR_cart.txt')\n",
    "inst_4 = pd.read_fwf('ITRF2020_VLBI_cart.txt')"
   ]
  },
  {
   "cell_type": "code",
   "execution_count": 3,
   "metadata": {},
   "outputs": [],
   "source": [
    "instrument_data = pd.concat([inst_1, inst_2, inst_3, inst_4])"
   ]
  },
  {
   "cell_type": "code",
   "execution_count": 4,
   "metadata": {},
   "outputs": [
    {
     "data": {
      "text/html": [
       "<div>\n",
       "<style scoped>\n",
       "    .dataframe tbody tr th:only-of-type {\n",
       "        vertical-align: middle;\n",
       "    }\n",
       "\n",
       "    .dataframe tbody tr th {\n",
       "        vertical-align: top;\n",
       "    }\n",
       "\n",
       "    .dataframe thead th {\n",
       "        text-align: right;\n",
       "    }\n",
       "</style>\n",
       "<table border=\"1\" class=\"dataframe\">\n",
       "  <thead>\n",
       "    <tr style=\"text-align: right;\">\n",
       "      <th></th>\n",
       "      <th>id</th>\n",
       "      <th>name</th>\n",
       "      <th>type</th>\n",
       "      <th>code</th>\n",
       "      <th>x</th>\n",
       "      <th>y</th>\n",
       "      <th>z</th>\n",
       "      <th>dx</th>\n",
       "      <th>dy</th>\n",
       "      <th>dz</th>\n",
       "    </tr>\n",
       "  </thead>\n",
       "  <tbody>\n",
       "    <tr>\n",
       "      <th>0</th>\n",
       "      <td>10002S018</td>\n",
       "      <td>Grasse (OCA)</td>\n",
       "      <td>DORIS</td>\n",
       "      <td>GR3B</td>\n",
       "      <td>4.581680e+06</td>\n",
       "      <td>556166.4818</td>\n",
       "      <td>4.389372e+06</td>\n",
       "      <td>0.002</td>\n",
       "      <td>0.0025</td>\n",
       "      <td>0.002</td>\n",
       "    </tr>\n",
       "    <tr>\n",
       "      <th>1</th>\n",
       "      <td>10002S019</td>\n",
       "      <td>Grasse (OCA)</td>\n",
       "      <td>DORIS</td>\n",
       "      <td>GR4B</td>\n",
       "      <td>4.581681e+06</td>\n",
       "      <td>556166.9141</td>\n",
       "      <td>4.389371e+06</td>\n",
       "      <td>0.0019</td>\n",
       "      <td>0.0024</td>\n",
       "      <td>0.0017</td>\n",
       "    </tr>\n",
       "    <tr>\n",
       "      <th>2</th>\n",
       "      <td>10003S001</td>\n",
       "      <td>Toulouse</td>\n",
       "      <td>DORIS</td>\n",
       "      <td>TLSA</td>\n",
       "      <td>4.628047e+06</td>\n",
       "      <td>119670.6873</td>\n",
       "      <td>4.372788e+06</td>\n",
       "      <td>0.0054</td>\n",
       "      <td>0.0062</td>\n",
       "      <td>0.0051</td>\n",
       "    </tr>\n",
       "    <tr>\n",
       "      <th>3</th>\n",
       "      <td>10003S003</td>\n",
       "      <td>Toulouse</td>\n",
       "      <td>DORIS</td>\n",
       "      <td>TLHA</td>\n",
       "      <td>4.628693e+06</td>\n",
       "      <td>119985.0770</td>\n",
       "      <td>4.372105e+06</td>\n",
       "      <td>0.0034</td>\n",
       "      <td>0.0042</td>\n",
       "      <td>0.0032</td>\n",
       "    </tr>\n",
       "    <tr>\n",
       "      <th>4</th>\n",
       "      <td>10003S005</td>\n",
       "      <td>Toulouse</td>\n",
       "      <td>DORIS</td>\n",
       "      <td>TLSB</td>\n",
       "      <td>4.628694e+06</td>\n",
       "      <td>119985.0787</td>\n",
       "      <td>4.372105e+06</td>\n",
       "      <td>0.0026</td>\n",
       "      <td>0.0039</td>\n",
       "      <td>0.0025</td>\n",
       "    </tr>\n",
       "  </tbody>\n",
       "</table>\n",
       "</div>"
      ],
      "text/plain": [
       "          id          name   type  code             x            y  \\\n",
       "0  10002S018  Grasse (OCA)  DORIS  GR3B  4.581680e+06  556166.4818   \n",
       "1  10002S019  Grasse (OCA)  DORIS  GR4B  4.581681e+06  556166.9141   \n",
       "2  10003S001      Toulouse  DORIS  TLSA  4.628047e+06  119670.6873   \n",
       "3  10003S003      Toulouse  DORIS  TLHA  4.628693e+06  119985.0770   \n",
       "4  10003S005      Toulouse  DORIS  TLSB  4.628694e+06  119985.0787   \n",
       "\n",
       "              z      dx      dy      dz  \n",
       "0  4.389372e+06   0.002  0.0025   0.002  \n",
       "1  4.389371e+06  0.0019  0.0024  0.0017  \n",
       "2  4.372788e+06  0.0054  0.0062  0.0051  \n",
       "3  4.372105e+06  0.0034  0.0042  0.0032  \n",
       "4  4.372105e+06  0.0026  0.0039  0.0025  "
      ]
     },
     "execution_count": 4,
     "metadata": {},
     "output_type": "execute_result"
    }
   ],
   "source": [
    "instrument_data.head()"
   ]
  },
  {
   "cell_type": "code",
   "execution_count": 5,
   "metadata": {},
   "outputs": [],
   "source": [
    "instrument_gdf = gpd.GeoDataFrame(gpd.GeoDataFrame(instrument_data, \n",
    "                                                   geometry=gpd.points_from_xy(instrument_data['x'], \n",
    "                                                                               instrument_data['y'], \n",
    "                                                                               instrument_data['z']), \n",
    "                                                                              crs=\"EPSG:4978\" )\n",
    "\n",
    ")\n",
    "\n",
    "\n",
    "instrument_gdf = instrument_gdf.to_crs(epsg=4326)\n"
   ]
  },
  {
   "cell_type": "code",
   "execution_count": 6,
   "metadata": {},
   "outputs": [
    {
     "data": {
      "text/html": [
       "<div>\n",
       "<style scoped>\n",
       "    .dataframe tbody tr th:only-of-type {\n",
       "        vertical-align: middle;\n",
       "    }\n",
       "\n",
       "    .dataframe tbody tr th {\n",
       "        vertical-align: top;\n",
       "    }\n",
       "\n",
       "    .dataframe thead th {\n",
       "        text-align: right;\n",
       "    }\n",
       "</style>\n",
       "<table border=\"1\" class=\"dataframe\">\n",
       "  <thead>\n",
       "    <tr style=\"text-align: right;\">\n",
       "      <th></th>\n",
       "      <th>id</th>\n",
       "      <th>name</th>\n",
       "      <th>type</th>\n",
       "      <th>code</th>\n",
       "      <th>x</th>\n",
       "      <th>y</th>\n",
       "      <th>z</th>\n",
       "      <th>dx</th>\n",
       "      <th>dy</th>\n",
       "      <th>dz</th>\n",
       "      <th>geometry</th>\n",
       "    </tr>\n",
       "  </thead>\n",
       "  <tbody>\n",
       "    <tr>\n",
       "      <th>0</th>\n",
       "      <td>10002S018</td>\n",
       "      <td>Grasse (OCA)</td>\n",
       "      <td>DORIS</td>\n",
       "      <td>GR3B</td>\n",
       "      <td>4.581680e+06</td>\n",
       "      <td>556166.4818</td>\n",
       "      <td>4.389372e+06</td>\n",
       "      <td>0.002</td>\n",
       "      <td>0.0025</td>\n",
       "      <td>0.002</td>\n",
       "      <td>POINT Z (6.92123 43.75483 1323.70087)</td>\n",
       "    </tr>\n",
       "    <tr>\n",
       "      <th>1</th>\n",
       "      <td>10002S019</td>\n",
       "      <td>Grasse (OCA)</td>\n",
       "      <td>DORIS</td>\n",
       "      <td>GR4B</td>\n",
       "      <td>4.581681e+06</td>\n",
       "      <td>556166.9141</td>\n",
       "      <td>4.389371e+06</td>\n",
       "      <td>0.0019</td>\n",
       "      <td>0.0024</td>\n",
       "      <td>0.0017</td>\n",
       "      <td>POINT Z (6.92123 43.75483 1323.8158)</td>\n",
       "    </tr>\n",
       "    <tr>\n",
       "      <th>2</th>\n",
       "      <td>10003S001</td>\n",
       "      <td>Toulouse</td>\n",
       "      <td>DORIS</td>\n",
       "      <td>TLSA</td>\n",
       "      <td>4.628047e+06</td>\n",
       "      <td>119670.6873</td>\n",
       "      <td>4.372788e+06</td>\n",
       "      <td>0.0054</td>\n",
       "      <td>0.0062</td>\n",
       "      <td>0.0051</td>\n",
       "      <td>POINT Z (1.48121 43.55814 207.69101)</td>\n",
       "    </tr>\n",
       "    <tr>\n",
       "      <th>3</th>\n",
       "      <td>10003S003</td>\n",
       "      <td>Toulouse</td>\n",
       "      <td>DORIS</td>\n",
       "      <td>TLHA</td>\n",
       "      <td>4.628693e+06</td>\n",
       "      <td>119985.0770</td>\n",
       "      <td>4.372105e+06</td>\n",
       "      <td>0.0034</td>\n",
       "      <td>0.0042</td>\n",
       "      <td>0.0032</td>\n",
       "      <td>POINT Z (1.48489 43.54962 210.79597)</td>\n",
       "    </tr>\n",
       "    <tr>\n",
       "      <th>4</th>\n",
       "      <td>10003S005</td>\n",
       "      <td>Toulouse</td>\n",
       "      <td>DORIS</td>\n",
       "      <td>TLSB</td>\n",
       "      <td>4.628694e+06</td>\n",
       "      <td>119985.0787</td>\n",
       "      <td>4.372105e+06</td>\n",
       "      <td>0.0026</td>\n",
       "      <td>0.0039</td>\n",
       "      <td>0.0025</td>\n",
       "      <td>POINT Z (1.48489 43.54962 211.08413)</td>\n",
       "    </tr>\n",
       "  </tbody>\n",
       "</table>\n",
       "</div>"
      ],
      "text/plain": [
       "          id          name   type  code             x            y  \\\n",
       "0  10002S018  Grasse (OCA)  DORIS  GR3B  4.581680e+06  556166.4818   \n",
       "1  10002S019  Grasse (OCA)  DORIS  GR4B  4.581681e+06  556166.9141   \n",
       "2  10003S001      Toulouse  DORIS  TLSA  4.628047e+06  119670.6873   \n",
       "3  10003S003      Toulouse  DORIS  TLHA  4.628693e+06  119985.0770   \n",
       "4  10003S005      Toulouse  DORIS  TLSB  4.628694e+06  119985.0787   \n",
       "\n",
       "              z      dx      dy      dz                               geometry  \n",
       "0  4.389372e+06   0.002  0.0025   0.002  POINT Z (6.92123 43.75483 1323.70087)  \n",
       "1  4.389371e+06  0.0019  0.0024  0.0017   POINT Z (6.92123 43.75483 1323.8158)  \n",
       "2  4.372788e+06  0.0054  0.0062  0.0051   POINT Z (1.48121 43.55814 207.69101)  \n",
       "3  4.372105e+06  0.0034  0.0042  0.0032   POINT Z (1.48489 43.54962 210.79597)  \n",
       "4  4.372105e+06  0.0026  0.0039  0.0025   POINT Z (1.48489 43.54962 211.08413)  "
      ]
     },
     "execution_count": 6,
     "metadata": {},
     "output_type": "execute_result"
    }
   ],
   "source": [
    "instrument_gdf.head()"
   ]
  },
  {
   "cell_type": "code",
   "execution_count": 7,
   "metadata": {},
   "outputs": [],
   "source": [
    "instrument_gdf['site_id'] = instrument_gdf['id'].str[:5]\n",
    "instrument_gdf['instrument_id'] = instrument_gdf['id'].str[5:]"
   ]
  },
  {
   "cell_type": "code",
   "execution_count": null,
   "metadata": {},
   "outputs": [],
   "source": []
  },
  {
   "cell_type": "code",
   "execution_count": 8,
   "metadata": {},
   "outputs": [],
   "source": [
    "instrument_gdf = instrument_gdf.drop(columns=['dx', 'dy', 'dz'])"
   ]
  },
  {
   "cell_type": "code",
   "execution_count": 9,
   "metadata": {},
   "outputs": [],
   "source": [
    "instrument_gdf.to_file(\"instruments.gpkg\", layer='layer_name', driver=\"GPKG\")"
   ]
  },
  {
   "cell_type": "code",
   "execution_count": 10,
   "metadata": {},
   "outputs": [
    {
     "data": {
      "text/html": [
       "<div>\n",
       "<style scoped>\n",
       "    .dataframe tbody tr th:only-of-type {\n",
       "        vertical-align: middle;\n",
       "    }\n",
       "\n",
       "    .dataframe tbody tr th {\n",
       "        vertical-align: top;\n",
       "    }\n",
       "\n",
       "    .dataframe thead th {\n",
       "        text-align: right;\n",
       "    }\n",
       "</style>\n",
       "<table border=\"1\" class=\"dataframe\">\n",
       "  <thead>\n",
       "    <tr style=\"text-align: right;\">\n",
       "      <th></th>\n",
       "      <th>id</th>\n",
       "      <th>name</th>\n",
       "      <th>type</th>\n",
       "      <th>code</th>\n",
       "      <th>x</th>\n",
       "      <th>y</th>\n",
       "      <th>z</th>\n",
       "      <th>geometry</th>\n",
       "      <th>site_id</th>\n",
       "      <th>instrument_id</th>\n",
       "    </tr>\n",
       "  </thead>\n",
       "  <tbody>\n",
       "    <tr>\n",
       "      <th>0</th>\n",
       "      <td>10002S018</td>\n",
       "      <td>Grasse (OCA)</td>\n",
       "      <td>DORIS</td>\n",
       "      <td>GR3B</td>\n",
       "      <td>4.581680e+06</td>\n",
       "      <td>556166.4818</td>\n",
       "      <td>4.389372e+06</td>\n",
       "      <td>POINT Z (6.92123 43.75483 1323.70087)</td>\n",
       "      <td>10002</td>\n",
       "      <td>S018</td>\n",
       "    </tr>\n",
       "    <tr>\n",
       "      <th>1</th>\n",
       "      <td>10002S019</td>\n",
       "      <td>Grasse (OCA)</td>\n",
       "      <td>DORIS</td>\n",
       "      <td>GR4B</td>\n",
       "      <td>4.581681e+06</td>\n",
       "      <td>556166.9141</td>\n",
       "      <td>4.389371e+06</td>\n",
       "      <td>POINT Z (6.92123 43.75483 1323.8158)</td>\n",
       "      <td>10002</td>\n",
       "      <td>S019</td>\n",
       "    </tr>\n",
       "    <tr>\n",
       "      <th>2</th>\n",
       "      <td>10003S001</td>\n",
       "      <td>Toulouse</td>\n",
       "      <td>DORIS</td>\n",
       "      <td>TLSA</td>\n",
       "      <td>4.628047e+06</td>\n",
       "      <td>119670.6873</td>\n",
       "      <td>4.372788e+06</td>\n",
       "      <td>POINT Z (1.48121 43.55814 207.69101)</td>\n",
       "      <td>10003</td>\n",
       "      <td>S001</td>\n",
       "    </tr>\n",
       "    <tr>\n",
       "      <th>3</th>\n",
       "      <td>10003S003</td>\n",
       "      <td>Toulouse</td>\n",
       "      <td>DORIS</td>\n",
       "      <td>TLHA</td>\n",
       "      <td>4.628693e+06</td>\n",
       "      <td>119985.0770</td>\n",
       "      <td>4.372105e+06</td>\n",
       "      <td>POINT Z (1.48489 43.54962 210.79597)</td>\n",
       "      <td>10003</td>\n",
       "      <td>S003</td>\n",
       "    </tr>\n",
       "    <tr>\n",
       "      <th>4</th>\n",
       "      <td>10003S005</td>\n",
       "      <td>Toulouse</td>\n",
       "      <td>DORIS</td>\n",
       "      <td>TLSB</td>\n",
       "      <td>4.628694e+06</td>\n",
       "      <td>119985.0787</td>\n",
       "      <td>4.372105e+06</td>\n",
       "      <td>POINT Z (1.48489 43.54962 211.08413)</td>\n",
       "      <td>10003</td>\n",
       "      <td>S005</td>\n",
       "    </tr>\n",
       "  </tbody>\n",
       "</table>\n",
       "</div>"
      ],
      "text/plain": [
       "          id          name   type  code             x            y  \\\n",
       "0  10002S018  Grasse (OCA)  DORIS  GR3B  4.581680e+06  556166.4818   \n",
       "1  10002S019  Grasse (OCA)  DORIS  GR4B  4.581681e+06  556166.9141   \n",
       "2  10003S001      Toulouse  DORIS  TLSA  4.628047e+06  119670.6873   \n",
       "3  10003S003      Toulouse  DORIS  TLHA  4.628693e+06  119985.0770   \n",
       "4  10003S005      Toulouse  DORIS  TLSB  4.628694e+06  119985.0787   \n",
       "\n",
       "              z                               geometry site_id instrument_id  \n",
       "0  4.389372e+06  POINT Z (6.92123 43.75483 1323.70087)   10002          S018  \n",
       "1  4.389371e+06   POINT Z (6.92123 43.75483 1323.8158)   10002          S019  \n",
       "2  4.372788e+06   POINT Z (1.48121 43.55814 207.69101)   10003          S001  \n",
       "3  4.372105e+06   POINT Z (1.48489 43.54962 210.79597)   10003          S003  \n",
       "4  4.372105e+06   POINT Z (1.48489 43.54962 211.08413)   10003          S005  "
      ]
     },
     "execution_count": 10,
     "metadata": {},
     "output_type": "execute_result"
    }
   ],
   "source": [
    "instrument_gdf.head()"
   ]
  },
  {
   "cell_type": "markdown",
   "metadata": {},
   "source": [
    "### 2. Creation of the second SHP (sites):\n",
    "\n",
    "- Keep only the instruments that belongs to a site (look at the five first numbers of the DOMES (id) number) which hosts at least 3 instruments from 2 different measurement techniques (GNSS, DORIS, SLR or VLBI).\n",
    "- Make a spatial groupby (dissolve) two join all the points from a same site.\n",
    "- Calculate a polygon from the list of points (you will need the shapely Polygon function and the shapely convex_hull property).\n",
    "- Save the data!"
   ]
  },
  {
   "cell_type": "code",
   "execution_count": 11,
   "metadata": {},
   "outputs": [],
   "source": [
    "\n",
    "\n",
    "site_stats = (\n",
    "    instrument_gdf.groupby('site_id')\n",
    "    .agg(instrument_count=('instrument_id', 'size'),  # Count of instruments\n",
    "         unique_types=('type', 'nunique'))           # Count of unique measurement techniques\n",
    "    .reset_index()\n",
    ")\n",
    "\n",
    "\n",
    "eligible_sites = site_stats[\n",
    "    (site_stats['instrument_count'] >= 3) &\n",
    "    (site_stats['unique_types'] >= 2)\n",
    "]\n",
    "\n",
    "\n",
    "filtered_sites = instrument_gdf[instrument_gdf['site_id'].isin(eligible_sites['site_id'])]\n",
    "\n"
   ]
  },
  {
   "cell_type": "code",
   "execution_count": 12,
   "metadata": {},
   "outputs": [],
   "source": [
    "site_counts = instrument_gdf['site_id'].value_counts()\n",
    "\n",
    "\n",
    "instrument_gdf_filtered = instrument_gdf[instrument_gdf['site_id'].\\\n",
    "                                         isin(site_counts[site_counts > 2].index)]"
   ]
  },
  {
   "cell_type": "code",
   "execution_count": 13,
   "metadata": {},
   "outputs": [],
   "source": [
    "site_counts = instrument_gdf['site_id'].value_counts()\n",
    "\n",
    "\n",
    "instrument_gdf_filtered = instrument_gdf[instrument_gdf['site_id'].\\\n",
    "                                         isin(site_counts[site_counts > 2].index)]"
   ]
  },
  {
   "cell_type": "code",
   "execution_count": 23,
   "metadata": {},
   "outputs": [],
   "source": [
    "instruments_dissolved = instrument_gdf_filtered.dissolve(by='site_id')"
   ]
  },
  {
   "cell_type": "code",
   "execution_count": 24,
   "metadata": {},
   "outputs": [
    {
     "data": {
      "text/html": [
       "<div>\n",
       "<style scoped>\n",
       "    .dataframe tbody tr th:only-of-type {\n",
       "        vertical-align: middle;\n",
       "    }\n",
       "\n",
       "    .dataframe tbody tr th {\n",
       "        vertical-align: top;\n",
       "    }\n",
       "\n",
       "    .dataframe thead th {\n",
       "        text-align: right;\n",
       "    }\n",
       "</style>\n",
       "<table border=\"1\" class=\"dataframe\">\n",
       "  <thead>\n",
       "    <tr style=\"text-align: right;\">\n",
       "      <th></th>\n",
       "      <th>geometry</th>\n",
       "      <th>id</th>\n",
       "      <th>name</th>\n",
       "      <th>type</th>\n",
       "      <th>code</th>\n",
       "      <th>x</th>\n",
       "      <th>y</th>\n",
       "      <th>z</th>\n",
       "      <th>instrument_id</th>\n",
       "    </tr>\n",
       "    <tr>\n",
       "      <th>site_id</th>\n",
       "      <th></th>\n",
       "      <th></th>\n",
       "      <th></th>\n",
       "      <th></th>\n",
       "      <th></th>\n",
       "      <th></th>\n",
       "      <th></th>\n",
       "      <th></th>\n",
       "      <th></th>\n",
       "    </tr>\n",
       "  </thead>\n",
       "  <tbody>\n",
       "    <tr>\n",
       "      <th>10002</th>\n",
       "      <td>MULTIPOINT Z (6.92058 43.75474 1319.30335, 6.9...</td>\n",
       "      <td>10002S018</td>\n",
       "      <td>Grasse (OCA)</td>\n",
       "      <td>DORIS</td>\n",
       "      <td>GR3B</td>\n",
       "      <td>4.581680e+06</td>\n",
       "      <td>5.561665e+05</td>\n",
       "      <td>4.389372e+06</td>\n",
       "      <td>S018</td>\n",
       "    </tr>\n",
       "    <tr>\n",
       "      <th>10003</th>\n",
       "      <td>MULTIPOINT Z (1.48076 43.56077 207.09635, 1.48...</td>\n",
       "      <td>10003S001</td>\n",
       "      <td>Toulouse</td>\n",
       "      <td>DORIS</td>\n",
       "      <td>TLSA</td>\n",
       "      <td>4.628047e+06</td>\n",
       "      <td>1.196707e+05</td>\n",
       "      <td>4.372788e+06</td>\n",
       "      <td>S001</td>\n",
       "    </tr>\n",
       "    <tr>\n",
       "      <th>10004</th>\n",
       "      <td>MULTIPOINT Z (-4.50383 48.40787 104.42082, -4....</td>\n",
       "      <td>10004M004</td>\n",
       "      <td>Brest</td>\n",
       "      <td>GNSS</td>\n",
       "      <td>BRST</td>\n",
       "      <td>4.231162e+06</td>\n",
       "      <td>-3.327465e+05</td>\n",
       "      <td>4.745131e+06</td>\n",
       "      <td>M004</td>\n",
       "    </tr>\n",
       "    <tr>\n",
       "      <th>10077</th>\n",
       "      <td>MULTIPOINT Z (8.76246 41.92747 98.24128, 8.762...</td>\n",
       "      <td>10077S002</td>\n",
       "      <td>Ajaccio</td>\n",
       "      <td>DORIS</td>\n",
       "      <td>AJAB</td>\n",
       "      <td>4.696990e+06</td>\n",
       "      <td>7.239812e+05</td>\n",
       "      <td>4.239679e+06</td>\n",
       "      <td>S002</td>\n",
       "    </tr>\n",
       "    <tr>\n",
       "      <th>10202</th>\n",
       "      <td>MULTIPOINT Z (-21.99518 64.15098 95.75501, -21...</td>\n",
       "      <td>10202S001</td>\n",
       "      <td>Reykjavik</td>\n",
       "      <td>DORIS</td>\n",
       "      <td>REYA</td>\n",
       "      <td>2.585528e+06</td>\n",
       "      <td>-1.044368e+06</td>\n",
       "      <td>5.717159e+06</td>\n",
       "      <td>S001</td>\n",
       "    </tr>\n",
       "  </tbody>\n",
       "</table>\n",
       "</div>"
      ],
      "text/plain": [
       "                                                  geometry         id  \\\n",
       "site_id                                                                 \n",
       "10002    MULTIPOINT Z (6.92058 43.75474 1319.30335, 6.9...  10002S018   \n",
       "10003    MULTIPOINT Z (1.48076 43.56077 207.09635, 1.48...  10003S001   \n",
       "10004    MULTIPOINT Z (-4.50383 48.40787 104.42082, -4....  10004M004   \n",
       "10077    MULTIPOINT Z (8.76246 41.92747 98.24128, 8.762...  10077S002   \n",
       "10202    MULTIPOINT Z (-21.99518 64.15098 95.75501, -21...  10202S001   \n",
       "\n",
       "                 name   type  code             x             y             z  \\\n",
       "site_id                                                                        \n",
       "10002    Grasse (OCA)  DORIS  GR3B  4.581680e+06  5.561665e+05  4.389372e+06   \n",
       "10003        Toulouse  DORIS  TLSA  4.628047e+06  1.196707e+05  4.372788e+06   \n",
       "10004           Brest   GNSS  BRST  4.231162e+06 -3.327465e+05  4.745131e+06   \n",
       "10077         Ajaccio  DORIS  AJAB  4.696990e+06  7.239812e+05  4.239679e+06   \n",
       "10202       Reykjavik  DORIS  REYA  2.585528e+06 -1.044368e+06  5.717159e+06   \n",
       "\n",
       "        instrument_id  \n",
       "site_id                \n",
       "10002            S018  \n",
       "10003            S001  \n",
       "10004            M004  \n",
       "10077            S002  \n",
       "10202            S001  "
      ]
     },
     "execution_count": 24,
     "metadata": {},
     "output_type": "execute_result"
    }
   ],
   "source": [
    "instruments_dissolved.head()"
   ]
  },
  {
   "cell_type": "code",
   "execution_count": 25,
   "metadata": {},
   "outputs": [],
   "source": [
    "instruments_dissolved['Polygon'] = instruments_dissolved['geometry'].convex_hull"
   ]
  },
  {
   "cell_type": "code",
   "execution_count": 26,
   "metadata": {},
   "outputs": [
    {
     "data": {
      "text/html": [
       "<div>\n",
       "<style scoped>\n",
       "    .dataframe tbody tr th:only-of-type {\n",
       "        vertical-align: middle;\n",
       "    }\n",
       "\n",
       "    .dataframe tbody tr th {\n",
       "        vertical-align: top;\n",
       "    }\n",
       "\n",
       "    .dataframe thead th {\n",
       "        text-align: right;\n",
       "    }\n",
       "</style>\n",
       "<table border=\"1\" class=\"dataframe\">\n",
       "  <thead>\n",
       "    <tr style=\"text-align: right;\">\n",
       "      <th></th>\n",
       "      <th>geometry</th>\n",
       "      <th>id</th>\n",
       "      <th>name</th>\n",
       "      <th>type</th>\n",
       "      <th>code</th>\n",
       "      <th>x</th>\n",
       "      <th>y</th>\n",
       "      <th>z</th>\n",
       "      <th>instrument_id</th>\n",
       "      <th>Polygon</th>\n",
       "    </tr>\n",
       "    <tr>\n",
       "      <th>site_id</th>\n",
       "      <th></th>\n",
       "      <th></th>\n",
       "      <th></th>\n",
       "      <th></th>\n",
       "      <th></th>\n",
       "      <th></th>\n",
       "      <th></th>\n",
       "      <th></th>\n",
       "      <th></th>\n",
       "      <th></th>\n",
       "    </tr>\n",
       "  </thead>\n",
       "  <tbody>\n",
       "    <tr>\n",
       "      <th>10002</th>\n",
       "      <td>MULTIPOINT Z (6.92058 43.75474 1319.30335, 6.9...</td>\n",
       "      <td>10002S018</td>\n",
       "      <td>Grasse (OCA)</td>\n",
       "      <td>DORIS</td>\n",
       "      <td>GR3B</td>\n",
       "      <td>4.581680e+06</td>\n",
       "      <td>5.561665e+05</td>\n",
       "      <td>4.389372e+06</td>\n",
       "      <td>S018</td>\n",
       "      <td>POLYGON Z ((6.92077 43.75449 1319.85842, 6.920...</td>\n",
       "    </tr>\n",
       "    <tr>\n",
       "      <th>10003</th>\n",
       "      <td>MULTIPOINT Z (1.48076 43.56077 207.09635, 1.48...</td>\n",
       "      <td>10003S001</td>\n",
       "      <td>Toulouse</td>\n",
       "      <td>DORIS</td>\n",
       "      <td>TLSA</td>\n",
       "      <td>4.628047e+06</td>\n",
       "      <td>1.196707e+05</td>\n",
       "      <td>4.372788e+06</td>\n",
       "      <td>S001</td>\n",
       "      <td>POLYGON Z ((1.48489 43.54962 210.79597, 1.4812...</td>\n",
       "    </tr>\n",
       "    <tr>\n",
       "      <th>10004</th>\n",
       "      <td>MULTIPOINT Z (-4.50383 48.40787 104.42082, -4....</td>\n",
       "      <td>10004M004</td>\n",
       "      <td>Brest</td>\n",
       "      <td>GNSS</td>\n",
       "      <td>BRST</td>\n",
       "      <td>4.231162e+06</td>\n",
       "      <td>-3.327465e+05</td>\n",
       "      <td>4.745131e+06</td>\n",
       "      <td>M004</td>\n",
       "      <td>POLYGON Z ((-4.49659 48.3805 65.82489, -4.5038...</td>\n",
       "    </tr>\n",
       "    <tr>\n",
       "      <th>10077</th>\n",
       "      <td>MULTIPOINT Z (8.76246 41.92747 98.24128, 8.762...</td>\n",
       "      <td>10077S002</td>\n",
       "      <td>Ajaccio</td>\n",
       "      <td>DORIS</td>\n",
       "      <td>AJAB</td>\n",
       "      <td>4.696990e+06</td>\n",
       "      <td>7.239812e+05</td>\n",
       "      <td>4.239679e+06</td>\n",
       "      <td>S002</td>\n",
       "      <td>POLYGON Z ((8.7627 41.92739 96.80211, 8.76246 ...</td>\n",
       "    </tr>\n",
       "    <tr>\n",
       "      <th>10202</th>\n",
       "      <td>MULTIPOINT Z (-21.99518 64.15098 95.75501, -21...</td>\n",
       "      <td>10202S001</td>\n",
       "      <td>Reykjavik</td>\n",
       "      <td>DORIS</td>\n",
       "      <td>REYA</td>\n",
       "      <td>2.585528e+06</td>\n",
       "      <td>-1.044368e+06</td>\n",
       "      <td>5.717159e+06</td>\n",
       "      <td>S001</td>\n",
       "      <td>POLYGON Z ((-21.95549 64.13879 93.04831, -21.9...</td>\n",
       "    </tr>\n",
       "  </tbody>\n",
       "</table>\n",
       "</div>"
      ],
      "text/plain": [
       "                                                  geometry         id  \\\n",
       "site_id                                                                 \n",
       "10002    MULTIPOINT Z (6.92058 43.75474 1319.30335, 6.9...  10002S018   \n",
       "10003    MULTIPOINT Z (1.48076 43.56077 207.09635, 1.48...  10003S001   \n",
       "10004    MULTIPOINT Z (-4.50383 48.40787 104.42082, -4....  10004M004   \n",
       "10077    MULTIPOINT Z (8.76246 41.92747 98.24128, 8.762...  10077S002   \n",
       "10202    MULTIPOINT Z (-21.99518 64.15098 95.75501, -21...  10202S001   \n",
       "\n",
       "                 name   type  code             x             y             z  \\\n",
       "site_id                                                                        \n",
       "10002    Grasse (OCA)  DORIS  GR3B  4.581680e+06  5.561665e+05  4.389372e+06   \n",
       "10003        Toulouse  DORIS  TLSA  4.628047e+06  1.196707e+05  4.372788e+06   \n",
       "10004           Brest   GNSS  BRST  4.231162e+06 -3.327465e+05  4.745131e+06   \n",
       "10077         Ajaccio  DORIS  AJAB  4.696990e+06  7.239812e+05  4.239679e+06   \n",
       "10202       Reykjavik  DORIS  REYA  2.585528e+06 -1.044368e+06  5.717159e+06   \n",
       "\n",
       "        instrument_id                                            Polygon  \n",
       "site_id                                                                   \n",
       "10002            S018  POLYGON Z ((6.92077 43.75449 1319.85842, 6.920...  \n",
       "10003            S001  POLYGON Z ((1.48489 43.54962 210.79597, 1.4812...  \n",
       "10004            M004  POLYGON Z ((-4.49659 48.3805 65.82489, -4.5038...  \n",
       "10077            S002  POLYGON Z ((8.7627 41.92739 96.80211, 8.76246 ...  \n",
       "10202            S001  POLYGON Z ((-21.95549 64.13879 93.04831, -21.9...  "
      ]
     },
     "execution_count": 26,
     "metadata": {},
     "output_type": "execute_result"
    }
   ],
   "source": [
    "instruments_dissolved.head()"
   ]
  },
  {
   "cell_type": "code",
   "execution_count": 27,
   "metadata": {},
   "outputs": [],
   "source": [
    "instruments_dissolved = instruments_dissolved.drop(columns='geometry')"
   ]
  },
  {
   "cell_type": "code",
   "execution_count": 28,
   "metadata": {},
   "outputs": [],
   "source": [
    "instruments_dissolved.to_file(\"instruments_polygon.gpkg\", layer='layer_name', driver=\"GPKG\")"
   ]
  },
  {
   "cell_type": "code",
   "execution_count": null,
   "metadata": {},
   "outputs": [],
   "source": []
  },
  {
   "cell_type": "markdown",
   "metadata": {},
   "source": [
    "### 3. Creation of the last SHP (images):\n",
    "\n",
    "- For each site, list the images (between 2022/01/01 and 2022/09/30) that are covering the extent of the site. This is very long!!! Write the information in a <site_id>.json temporary file to be able to restart the script if it fails.\n",
    "- Merge all information in one GeoDataFrame.\n",
    "- Save the data!"
   ]
  },
  {
   "cell_type": "code",
   "execution_count": 30,
   "metadata": {},
   "outputs": [],
   "source": [
    "import requests\n",
    "\n",
    "def request_images(wkt_geometry):\n",
    "    items = [] # Empty list to store return elements\n",
    "    # Request\n",
    "    r = requests.get(\n",
    "        \"https://catalogue.dataspace.copernicus.eu/resto/api/collections/Sentinel2/search.json\",\n",
    "        params={\n",
    "            \"geometry\": wkt_geometry,\n",
    "            \"startDate\": \"2022-01-01T00:00:00.000Z\",\n",
    "            \"completionDate\": \"2022-09-30T23:59:59.999Z\",\n",
    "            \"cloudCover\": \"[0,10]\",\n",
    "            \"maxRecords\": 20,\n",
    "            \"page\": 1,\n",
    "        }\n",
    "    )\n",
    "    # If status_code is not 200, we have an issue\n",
    "    if r.status_code == 200:\n",
    "        data = r.json()\n",
    "        if 'features' in data:\n",
    "            items += data['features']\n",
    "    return items\n"
   ]
  },
  {
   "cell_type": "code",
   "execution_count": 31,
   "metadata": {},
   "outputs": [],
   "source": [
    "instruments_dissolved['images'] = instruments_dissolved['Polygon'].apply(lambda x: request_images(x.wkt))"
   ]
  },
  {
   "cell_type": "code",
   "execution_count": 44,
   "metadata": {},
   "outputs": [],
   "source": [
    "import json\n",
    "\n",
    "\n",
    "instruments_dissolved.to_csv(\"instruments_dissolved.csv\")\n",
    "\n",
    "# Save the images information for each site in a JSON file\n",
    "for site_id, images in instruments_dissolved['images'].items():\n",
    "    with open(f\"{site_id}.json\", \"w\") as f:\n",
    "        json.dump(images, f)"
   ]
  },
  {
   "cell_type": "markdown",
   "metadata": {},
   "source": [
    "#### Visualise some images "
   ]
  },
  {
   "cell_type": "code",
   "execution_count": 41,
   "metadata": {},
   "outputs": [
    {
     "name": "stdout",
     "output_type": "stream",
     "text": [
      "Site 10002 has a valid image with id: 3aaee0d9-5dc8-50f4-ae6a-5627e984ba2a\n"
     ]
    },
    {
     "data": {
      "text/html": [
       "<img src=\"https://catalogue.dataspace.copernicus.eu/get-object?path=/Sentinel-2/MSI/L1C/2022/07/03/S2A_MSIL1C_20220703T102611_N0400_R108_T32TLP_20220703T154949.SAFE/S2A_MSIL1C_20220703T102611_N0400_R108_T32TLP_20220703T154949-ql.jpg\"/>"
      ],
      "text/plain": [
       "<IPython.core.display.Image object>"
      ]
     },
     "metadata": {},
     "output_type": "display_data"
    },
    {
     "name": "stdout",
     "output_type": "stream",
     "text": [
      "Site 10002 has a valid image with id: 00951cef-b763-5d0f-8fe8-b7212c7588c5\n"
     ]
    },
    {
     "data": {
      "text/html": [
       "<img src=\"https://catalogue.dataspace.copernicus.eu/get-object?path=/Sentinel-2/MSI/L2A/2022/07/03/S2A_MSIL2A_20220703T102611_N0400_R108_T32TLP_20220703T182512.SAFE/S2A_MSIL2A_20220703T102611_N0400_R108_T32TLP_20220703T182512-ql.jpg\"/>"
      ],
      "text/plain": [
       "<IPython.core.display.Image object>"
      ]
     },
     "metadata": {},
     "output_type": "display_data"
    },
    {
     "name": "stdout",
     "output_type": "stream",
     "text": [
      "Site 10002 has a valid image with id: 0eab919b-be5b-575a-a764-c1a9d17f1bbf\n"
     ]
    },
    {
     "data": {
      "text/html": [
       "<img src=\"https://catalogue.dataspace.copernicus.eu/get-object?path=/Sentinel-2/MSI/L1C/2022/07/05/S2B_MSIL1C_20220705T101559_N0400_R065_T32TLP_20220705T123007.SAFE/S2B_MSIL1C_20220705T101559_N0400_R065_T32TLP_20220705T123007-ql.jpg\"/>"
      ],
      "text/plain": [
       "<IPython.core.display.Image object>"
      ]
     },
     "metadata": {},
     "output_type": "display_data"
    },
    {
     "name": "stdout",
     "output_type": "stream",
     "text": [
      "Site 10002 has a valid image with id: 4743ad8e-ffc4-5b5f-a5dc-3dc933ddf292\n"
     ]
    },
    {
     "data": {
      "text/html": [
       "<img src=\"https://catalogue.dataspace.copernicus.eu/get-object?path=/Sentinel-2/MSI/L2A/2022/07/05/S2B_MSIL2A_20220705T101559_N0400_R065_T32TLP_20220705T131726.SAFE/S2B_MSIL2A_20220705T101559_N0400_R065_T32TLP_20220705T131726-ql.jpg\"/>"
      ],
      "text/plain": [
       "<IPython.core.display.Image object>"
      ]
     },
     "metadata": {},
     "output_type": "display_data"
    },
    {
     "name": "stdout",
     "output_type": "stream",
     "text": [
      "Site 10002 has a valid image with id: 87612d35-a8cd-51cd-85d9-715ebd00f756\n"
     ]
    },
    {
     "data": {
      "text/html": [
       "<img src=\"https://catalogue.dataspace.copernicus.eu/get-object?path=/Sentinel-2/MSI/L2A/2022/07/15/S2B_MSIL2A_20220715T101559_N0400_R065_T32TLP_20220715T133111.SAFE/S2B_MSIL2A_20220715T101559_N0400_R065_T32TLP_20220715T133111-ql.jpg\"/>"
      ],
      "text/plain": [
       "<IPython.core.display.Image object>"
      ]
     },
     "metadata": {},
     "output_type": "display_data"
    },
    {
     "name": "stdout",
     "output_type": "stream",
     "text": [
      "Site 10002 has a valid image with id: 7c89e164-3e1b-5f3e-9a4d-b9876c1c1546\n"
     ]
    },
    {
     "data": {
      "text/html": [
       "<img src=\"https://catalogue.dataspace.copernicus.eu/get-object?path=/Sentinel-2/MSI/L1C/2022/07/08/S2B_MSIL1C_20220708T102559_N0400_R108_T32TLP_20220708T123203.SAFE/S2B_MSIL1C_20220708T102559_N0400_R108_T32TLP_20220708T123203-ql.jpg\"/>"
      ],
      "text/plain": [
       "<IPython.core.display.Image object>"
      ]
     },
     "metadata": {},
     "output_type": "display_data"
    },
    {
     "name": "stdout",
     "output_type": "stream",
     "text": [
      "Site 10002 has a valid image with id: f877e68e-3d6c-55fb-b90a-9b178039eccf\n"
     ]
    },
    {
     "data": {
      "text/html": [
       "<img src=\"https://catalogue.dataspace.copernicus.eu/get-object?path=/Sentinel-2/MSI/L1C/2022/07/15/S2B_MSIL1C_20220715T101559_N0400_R065_T32TLP_20220715T122556.SAFE/S2B_MSIL1C_20220715T101559_N0400_R065_T32TLP_20220715T122556-ql.jpg\"/>"
      ],
      "text/plain": [
       "<IPython.core.display.Image object>"
      ]
     },
     "metadata": {},
     "output_type": "display_data"
    },
    {
     "name": "stdout",
     "output_type": "stream",
     "text": [
      "Site 10002 has a valid image with id: fa462c23-b2ee-5fee-8b81-d8ee4f3e4bb9\n"
     ]
    },
    {
     "data": {
      "text/html": [
       "<img src=\"https://catalogue.dataspace.copernicus.eu/get-object?path=/Sentinel-2/MSI/L1C/2022/07/20/S2A_MSIL1C_20220720T101611_N0400_R065_T32TLP_20220720T140828.SAFE/S2A_MSIL1C_20220720T101611_N0400_R065_T32TLP_20220720T140828-ql.jpg\"/>"
      ],
      "text/plain": [
       "<IPython.core.display.Image object>"
      ]
     },
     "metadata": {},
     "output_type": "display_data"
    },
    {
     "name": "stdout",
     "output_type": "stream",
     "text": [
      "Site 10002 has a valid image with id: e80ac437-4085-549b-a8ef-7b5eda47b2e7\n"
     ]
    },
    {
     "data": {
      "text/html": [
       "<img src=\"https://catalogue.dataspace.copernicus.eu/get-object?path=/Sentinel-2/MSI/L1C/2022/07/25/S2B_MSIL1C_20220725T101559_N0400_R065_T32TLP_20220725T122447.SAFE/S2B_MSIL1C_20220725T101559_N0400_R065_T32TLP_20220725T122447-ql.jpg\"/>"
      ],
      "text/plain": [
       "<IPython.core.display.Image object>"
      ]
     },
     "metadata": {},
     "output_type": "display_data"
    },
    {
     "name": "stdout",
     "output_type": "stream",
     "text": [
      "Site 10002 has a valid image with id: 99a822bd-6e77-5271-9e82-f10919f53432\n"
     ]
    },
    {
     "data": {
      "text/html": [
       "<img src=\"https://catalogue.dataspace.copernicus.eu/get-object?path=/Sentinel-2/MSI/L1C/2022/08/04/S2B_MSIL1C_20220804T101559_N0400_R065_T32TLP_20220804T122444.SAFE/S2B_MSIL1C_20220804T101559_N0400_R065_T32TLP_20220804T122444-ql.jpg\"/>"
      ],
      "text/plain": [
       "<IPython.core.display.Image object>"
      ]
     },
     "metadata": {},
     "output_type": "display_data"
    },
    {
     "name": "stdout",
     "output_type": "stream",
     "text": [
      "Site 10002 has a valid image with id: 29f7f967-326d-50bf-9e51-3dcc08e010d6\n"
     ]
    },
    {
     "data": {
      "text/html": [
       "<img src=\"https://catalogue.dataspace.copernicus.eu/get-object?path=/Sentinel-2/MSI/L1C/2022/08/12/S2A_MSIL1C_20220812T103031_N0400_R108_T32TLP_20220812T155113.SAFE/S2A_MSIL1C_20220812T103031_N0400_R108_T32TLP_20220812T155113-ql.jpg\"/>"
      ],
      "text/plain": [
       "<IPython.core.display.Image object>"
      ]
     },
     "metadata": {},
     "output_type": "display_data"
    },
    {
     "name": "stdout",
     "output_type": "stream",
     "text": [
      "Site 10002 has a valid image with id: c692f4a4-7a30-5ef1-b810-6b55b77e52c6\n"
     ]
    },
    {
     "data": {
      "text/html": [
       "<img src=\"https://catalogue.dataspace.copernicus.eu/get-object?path=/Sentinel-2/MSI/L2A/2022/08/04/S2B_MSIL2A_20220804T101559_N0400_R065_T32TLP_20220804T130854.SAFE/S2B_MSIL2A_20220804T101559_N0400_R065_T32TLP_20220804T130854-ql.jpg\"/>"
      ],
      "text/plain": [
       "<IPython.core.display.Image object>"
      ]
     },
     "metadata": {},
     "output_type": "display_data"
    },
    {
     "name": "stdout",
     "output_type": "stream",
     "text": [
      "Site 10002 has a valid image with id: 62b51844-10bf-5e68-91a7-2580c09eadc8\n"
     ]
    },
    {
     "data": {
      "text/html": [
       "<img src=\"https://catalogue.dataspace.copernicus.eu/get-object?path=/Sentinel-2/MSI/L2A/2022/08/09/S2A_MSIL2A_20220809T102041_N0400_R065_T32TLP_20220809T180703.SAFE/S2A_MSIL2A_20220809T102041_N0400_R065_T32TLP_20220809T180703-ql.jpg\"/>"
      ],
      "text/plain": [
       "<IPython.core.display.Image object>"
      ]
     },
     "metadata": {},
     "output_type": "display_data"
    },
    {
     "name": "stdout",
     "output_type": "stream",
     "text": [
      "Site 10002 has a valid image with id: 107344c3-7170-5252-bb5f-aefa6ebc76a5\n"
     ]
    },
    {
     "data": {
      "text/html": [
       "<img src=\"https://catalogue.dataspace.copernicus.eu/get-object?path=/Sentinel-2/MSI/L1C/2022/08/09/S2A_MSIL1C_20220809T102041_N0400_R065_T32TLP_20220809T153907.SAFE/S2A_MSIL1C_20220809T102041_N0400_R065_T32TLP_20220809T153907-ql.jpg\"/>"
      ],
      "text/plain": [
       "<IPython.core.display.Image object>"
      ]
     },
     "metadata": {},
     "output_type": "display_data"
    },
    {
     "name": "stdout",
     "output_type": "stream",
     "text": [
      "Site 10002 has a valid image with id: 658abd1a-fee3-5f62-b188-f14d2c937a98\n"
     ]
    },
    {
     "data": {
      "text/html": [
       "<img src=\"https://catalogue.dataspace.copernicus.eu/get-object?path=/Sentinel-2/MSI/L1C/2022/09/28/S2A_MSIL1C_20220928T101811_N0400_R065_T32TLP_20220928T140013.SAFE/S2A_MSIL1C_20220928T101811_N0400_R065_T32TLP_20220928T140013-ql.jpg\"/>"
      ],
      "text/plain": [
       "<IPython.core.display.Image object>"
      ]
     },
     "metadata": {},
     "output_type": "display_data"
    },
    {
     "name": "stdout",
     "output_type": "stream",
     "text": [
      "Site 10002 has a valid image with id: 1e529bea-7515-5ae8-8270-159e7153232c\n"
     ]
    },
    {
     "data": {
      "text/html": [
       "<img src=\"https://catalogue.dataspace.copernicus.eu/get-object?path=/Sentinel-2/MSI/L1C/2022/09/18/S2A_MSIL1C_20220918T101701_N0400_R065_T32TLP_20220918T140006.SAFE/S2A_MSIL1C_20220918T101701_N0400_R065_T32TLP_20220918T140006-ql.jpg\"/>"
      ],
      "text/plain": [
       "<IPython.core.display.Image object>"
      ]
     },
     "metadata": {},
     "output_type": "display_data"
    },
    {
     "name": "stdout",
     "output_type": "stream",
     "text": [
      "Site 10002 has a valid image with id: 84a351a4-c6e2-5b28-9313-f3533da15e1c\n"
     ]
    },
    {
     "data": {
      "text/html": [
       "<img src=\"https://catalogue.dataspace.copernicus.eu/get-object?path=/Sentinel-2/MSI/L1C/2022/09/16/S2B_MSIL1C_20220916T102639_N0400_R108_T32TLP_20220916T123223.SAFE/S2B_MSIL1C_20220916T102639_N0400_R108_T32TLP_20220916T123223-ql.jpg\"/>"
      ],
      "text/plain": [
       "<IPython.core.display.Image object>"
      ]
     },
     "metadata": {},
     "output_type": "display_data"
    },
    {
     "name": "stdout",
     "output_type": "stream",
     "text": [
      "Site 10002 has a valid image with id: 93b4cd19-9a92-5dac-bcf6-ea4d530edb19\n"
     ]
    },
    {
     "data": {
      "text/html": [
       "<img src=\"https://catalogue.dataspace.copernicus.eu/get-object?path=/Sentinel-2/MSI/L2A/2022/09/26/S2B_MSIL2A_20220926T102709_N0400_R108_T32TLP_20220926T134524.SAFE/S2B_MSIL2A_20220926T102709_N0400_R108_T32TLP_20220926T134524-ql.jpg\"/>"
      ],
      "text/plain": [
       "<IPython.core.display.Image object>"
      ]
     },
     "metadata": {},
     "output_type": "display_data"
    },
    {
     "name": "stdout",
     "output_type": "stream",
     "text": [
      "Site 10002 has a valid image with id: bd84c0c4-51d2-5680-953c-fc16a2708553\n"
     ]
    },
    {
     "data": {
      "text/html": [
       "<img src=\"https://catalogue.dataspace.copernicus.eu/get-object?path=/Sentinel-2/MSI/L1C/2022/09/11/S2A_MSIL1C_20220911T102621_N0400_R108_T32TLP_20220911T154923.SAFE/S2A_MSIL1C_20220911T102621_N0400_R108_T32TLP_20220911T154923-ql.jpg\"/>"
      ],
      "text/plain": [
       "<IPython.core.display.Image object>"
      ]
     },
     "metadata": {},
     "output_type": "display_data"
    },
    {
     "name": "stdout",
     "output_type": "stream",
     "text": [
      "Site 10002 has a valid image with id: 36ecc716-a2a4-566c-877a-fae6af497742\n"
     ]
    },
    {
     "data": {
      "text/html": [
       "<img src=\"https://catalogue.dataspace.copernicus.eu/get-object?path=/Sentinel-2/MSI/L2A/2022/09/11/S2A_MSIL2A_20220911T102621_N0400_R108_T32TLP_20220911T181354.SAFE/S2A_MSIL2A_20220911T102621_N0400_R108_T32TLP_20220911T181354-ql.jpg\"/>"
      ],
      "text/plain": [
       "<IPython.core.display.Image object>"
      ]
     },
     "metadata": {},
     "output_type": "display_data"
    },
    {
     "name": "stdout",
     "output_type": "stream",
     "text": [
      "Site 10003 has a valid image with id: ec295205-630e-551e-8930-136ec9bc0014\n"
     ]
    },
    {
     "data": {
      "text/html": [
       "<img src=\"https://catalogue.dataspace.copernicus.eu/get-object?path=/Sentinel-2/MSI/L1C/2022/07/14/S2B_MSIL1C_20220714T104629_N0400_R051_T31TCJ_20220714T125457.SAFE/S2B_MSIL1C_20220714T104629_N0400_R051_T31TCJ_20220714T125457-ql.jpg\"/>"
      ],
      "text/plain": [
       "<IPython.core.display.Image object>"
      ]
     },
     "metadata": {},
     "output_type": "display_data"
    },
    {
     "name": "stdout",
     "output_type": "stream",
     "text": [
      "Site 10003 has a valid image with id: bf37c4c0-1876-5d47-a205-204b9f1da5e7\n"
     ]
    },
    {
     "data": {
      "text/html": [
       "<img src=\"https://catalogue.dataspace.copernicus.eu/get-object?path=/Sentinel-2/MSI/L2A/2022/07/09/S2A_MSIL2A_20220709T105041_N0509_R051_T31TCJ_20221214T145059.SAFE/S2A_MSIL2A_20220709T105041_N0509_R051_T31TCJ_20221214T145059-ql.jpg\"/>"
      ],
      "text/plain": [
       "<IPython.core.display.Image object>"
      ]
     },
     "metadata": {},
     "output_type": "display_data"
    },
    {
     "name": "stdout",
     "output_type": "stream",
     "text": [
      "Site 10003 has a valid image with id: afe07aa6-2814-5d36-9d29-67277371a24b\n"
     ]
    },
    {
     "data": {
      "text/html": [
       "<img src=\"https://catalogue.dataspace.copernicus.eu/get-object?path=/Sentinel-2/MSI/L1C/2022/07/09/S2A_MSIL1C_20220709T105041_N0509_R051_T31TCJ_20220709T143311.SAFE/S2A_MSIL1C_20220709T105041_N0509_R051_T31TCJ_20220709T143311-ql.jpg\"/>"
      ],
      "text/plain": [
       "<IPython.core.display.Image object>"
      ]
     },
     "metadata": {},
     "output_type": "display_data"
    },
    {
     "name": "stdout",
     "output_type": "stream",
     "text": [
      "Site 10003 has a valid image with id: f27d6cdc-94c8-592b-a94e-c7722dfa8dae\n"
     ]
    },
    {
     "data": {
      "text/html": [
       "<img src=\"https://catalogue.dataspace.copernicus.eu/get-object?path=/Sentinel-2/MSI/L1C/2022/07/24/S2B_MSIL1C_20220724T104629_N0400_R051_T31TCJ_20220724T113446.SAFE/S2B_MSIL1C_20220724T104629_N0400_R051_T31TCJ_20220724T113446-ql.jpg\"/>"
      ],
      "text/plain": [
       "<IPython.core.display.Image object>"
      ]
     },
     "metadata": {},
     "output_type": "display_data"
    },
    {
     "name": "stdout",
     "output_type": "stream",
     "text": [
      "Site 10003 has a valid image with id: 5420e51f-131d-5ea9-9189-d34d35261436\n"
     ]
    },
    {
     "data": {
      "text/html": [
       "<img src=\"https://catalogue.dataspace.copernicus.eu/get-object?path=/Sentinel-2/MSI/L2A/2022/07/24/S2B_MSIL2A_20220724T104629_N0400_R051_T31TCJ_20220724T123114.SAFE/S2B_MSIL2A_20220724T104629_N0400_R051_T31TCJ_20220724T123114-ql.jpg\"/>"
      ],
      "text/plain": [
       "<IPython.core.display.Image object>"
      ]
     },
     "metadata": {},
     "output_type": "display_data"
    },
    {
     "name": "stdout",
     "output_type": "stream",
     "text": [
      "Site 10003 has a valid image with id: 69f49a1b-43ef-5d5d-b646-9db4749b4efd\n"
     ]
    },
    {
     "data": {
      "text/html": [
       "<img src=\"https://catalogue.dataspace.copernicus.eu/get-object?path=/Sentinel-2/MSI/L2A/2022/08/03/S2B_MSIL2A_20220803T104629_N0400_R051_T31TCJ_20220803T122243.SAFE/S2B_MSIL2A_20220803T104629_N0400_R051_T31TCJ_20220803T122243-ql.jpg\"/>"
      ],
      "text/plain": [
       "<IPython.core.display.Image object>"
      ]
     },
     "metadata": {},
     "output_type": "display_data"
    },
    {
     "name": "stdout",
     "output_type": "stream",
     "text": [
      "Site 10003 has a valid image with id: 88fdb08b-583c-5b74-8a1f-d5f66c829e1f\n"
     ]
    },
    {
     "data": {
      "text/html": [
       "<img src=\"https://catalogue.dataspace.copernicus.eu/get-object?path=/Sentinel-2/MSI/L1C/2022/08/03/S2B_MSIL1C_20220803T104629_N0400_R051_T31TCJ_20220803T113612.SAFE/S2B_MSIL1C_20220803T104629_N0400_R051_T31TCJ_20220803T113612-ql.jpg\"/>"
      ],
      "text/plain": [
       "<IPython.core.display.Image object>"
      ]
     },
     "metadata": {},
     "output_type": "display_data"
    },
    {
     "name": "stdout",
     "output_type": "stream",
     "text": [
      "Site 10003 has a valid image with id: 1ad7099f-e4ef-5699-adab-7bda9a08424d\n"
     ]
    },
    {
     "data": {
      "text/html": [
       "<img src=\"https://catalogue.dataspace.copernicus.eu/get-object?path=/Sentinel-2/MSI/L1C/2022/08/08/S2A_MSIL1C_20220808T104631_N0400_R051_T31TCJ_20220808T142930.SAFE/S2A_MSIL1C_20220808T104631_N0400_R051_T31TCJ_20220808T142930-ql.jpg\"/>"
      ],
      "text/plain": [
       "<IPython.core.display.Image object>"
      ]
     },
     "metadata": {},
     "output_type": "display_data"
    },
    {
     "name": "stdout",
     "output_type": "stream",
     "text": [
      "Site 10003 has a valid image with id: 16c98f8e-3a35-5c97-b7fd-95a7c20a9166\n"
     ]
    },
    {
     "data": {
      "text/html": [
       "<img src=\"https://catalogue.dataspace.copernicus.eu/get-object?path=/Sentinel-2/MSI/L1C/2022/08/08/S2A_MSIL1C_20220808T104631_N0400_R051_T31TCJ_20220808T160946.SAFE/S2A_MSIL1C_20220808T104631_N0400_R051_T31TCJ_20220808T160946-ql.jpg\"/>"
      ],
      "text/plain": [
       "<IPython.core.display.Image object>"
      ]
     },
     "metadata": {},
     "output_type": "display_data"
    },
    {
     "name": "stdout",
     "output_type": "stream",
     "text": [
      "Site 10003 has a valid image with id: 0fe544ce-2f9f-59f8-8c0d-b069c48c042d\n"
     ]
    },
    {
     "data": {
      "text/html": [
       "<img src=\"https://catalogue.dataspace.copernicus.eu/get-object?path=/Sentinel-2/MSI/L1C/2022/08/28/S2A_MSIL1C_20220828T104631_N0400_R051_T31TCJ_20220828T161043.SAFE/S2A_MSIL1C_20220828T104631_N0400_R051_T31TCJ_20220828T161043-ql.jpg\"/>"
      ],
      "text/plain": [
       "<IPython.core.display.Image object>"
      ]
     },
     "metadata": {},
     "output_type": "display_data"
    },
    {
     "name": "stdout",
     "output_type": "stream",
     "text": [
      "Site 10003 has a valid image with id: 43e26710-89d6-5b59-8728-808e1c7b38ef\n"
     ]
    },
    {
     "data": {
      "text/html": [
       "<img src=\"https://catalogue.dataspace.copernicus.eu/get-object?path=/Sentinel-2/MSI/L1C/2022/08/28/S2A_MSIL1C_20220828T104631_N0400_R051_T31TCJ_20220828T143127.SAFE/S2A_MSIL1C_20220828T104631_N0400_R051_T31TCJ_20220828T143127-ql.jpg\"/>"
      ],
      "text/plain": [
       "<IPython.core.display.Image object>"
      ]
     },
     "metadata": {},
     "output_type": "display_data"
    },
    {
     "name": "stdout",
     "output_type": "stream",
     "text": [
      "Site 10003 has a valid image with id: 84d1bede-4592-5cd5-b553-4fc830935cf5\n"
     ]
    },
    {
     "data": {
      "text/html": [
       "<img src=\"https://catalogue.dataspace.copernicus.eu/get-object?path=/Sentinel-2/MSI/L2A/2022/08/28/S2A_MSIL2A_20220828T104631_N0400_R051_T31TCJ_20220828T184101.SAFE/S2A_MSIL2A_20220828T104631_N0400_R051_T31TCJ_20220828T184101-ql.jpg\"/>"
      ],
      "text/plain": [
       "<IPython.core.display.Image object>"
      ]
     },
     "metadata": {},
     "output_type": "display_data"
    },
    {
     "name": "stdout",
     "output_type": "stream",
     "text": [
      "Site 10003 has a valid image with id: b6f4a3e9-49b7-53ce-bbc7-ad95a3f1cc25\n"
     ]
    },
    {
     "data": {
      "text/html": [
       "<img src=\"https://catalogue.dataspace.copernicus.eu/get-object?path=/Sentinel-2/MSI/L2A/2022/08/28/S2A_MSIL2A_20220828T104631_N0400_R051_T31TCJ_20220828T184000.SAFE/S2A_MSIL2A_20220828T104631_N0400_R051_T31TCJ_20220828T184000-ql.jpg\"/>"
      ],
      "text/plain": [
       "<IPython.core.display.Image object>"
      ]
     },
     "metadata": {},
     "output_type": "display_data"
    },
    {
     "name": "stdout",
     "output_type": "stream",
     "text": [
      "Site 10003 has a valid image with id: eef5be3a-d580-5514-96bd-f2662bd771ca\n"
     ]
    },
    {
     "data": {
      "text/html": [
       "<img src=\"https://catalogue.dataspace.copernicus.eu/get-object?path=/Sentinel-2/MSI/L1C/2022/09/22/S2B_MSIL1C_20220922T104649_N0400_R051_T31TCJ_20220922T125326.SAFE/S2B_MSIL1C_20220922T104649_N0400_R051_T31TCJ_20220922T125326-ql.jpg\"/>"
      ],
      "text/plain": [
       "<IPython.core.display.Image object>"
      ]
     },
     "metadata": {},
     "output_type": "display_data"
    },
    {
     "name": "stdout",
     "output_type": "stream",
     "text": [
      "Site 10003 has a valid image with id: 81ebf064-9a6a-5025-bec0-c8c6de17520e\n"
     ]
    },
    {
     "data": {
      "text/html": [
       "<img src=\"https://catalogue.dataspace.copernicus.eu/get-object?path=/Sentinel-2/MSI/L2A/2022/09/22/S2B_MSIL2A_20220922T104649_N0400_R051_T31TCJ_20220922T133521.SAFE/S2B_MSIL2A_20220922T104649_N0400_R051_T31TCJ_20220922T133521-ql.jpg\"/>"
      ],
      "text/plain": [
       "<IPython.core.display.Image object>"
      ]
     },
     "metadata": {},
     "output_type": "display_data"
    },
    {
     "name": "stdout",
     "output_type": "stream",
     "text": [
      "Site 10003 has a valid image with id: a6a9e62c-a6bf-5690-999f-93afaf0e0107\n"
     ]
    },
    {
     "data": {
      "text/html": [
       "<img src=\"https://catalogue.dataspace.copernicus.eu/get-object?path=/Sentinel-2/MSI/L1C/2022/04/05/S2B_MSIL1C_20220405T104619_N0400_R051_T31TCJ_20220405T131633.SAFE/S2B_MSIL1C_20220405T104619_N0400_R051_T31TCJ_20220405T131633-ql.jpg\"/>"
      ],
      "text/plain": [
       "<IPython.core.display.Image object>"
      ]
     },
     "metadata": {},
     "output_type": "display_data"
    },
    {
     "name": "stdout",
     "output_type": "stream",
     "text": [
      "Site 10003 has a valid image with id: a14cf2e2-1006-5b81-8942-de98440698bb\n"
     ]
    },
    {
     "data": {
      "text/html": [
       "<img src=\"https://catalogue.dataspace.copernicus.eu/get-object?path=/Sentinel-2/MSI/L2A/2022/04/05/S2B_MSIL2A_20220405T104619_N0400_R051_T31TCJ_20220405T142655.SAFE/S2B_MSIL2A_20220405T104619_N0400_R051_T31TCJ_20220405T142655-ql.jpg\"/>"
      ],
      "text/plain": [
       "<IPython.core.display.Image object>"
      ]
     },
     "metadata": {},
     "output_type": "display_data"
    },
    {
     "name": "stdout",
     "output_type": "stream",
     "text": [
      "Site 10003 has a valid image with id: d544e2dd-8730-5029-91d4-4e19ff33bdae\n"
     ]
    },
    {
     "data": {
      "text/html": [
       "<img src=\"https://catalogue.dataspace.copernicus.eu/get-object?path=/Sentinel-2/MSI/L1C/2022/06/29/S2A_MSIL1C_20220629T104631_N0400_R051_T31TCJ_20220629T160858.SAFE/S2A_MSIL1C_20220629T104631_N0400_R051_T31TCJ_20220629T160858-ql.jpg\"/>"
      ],
      "text/plain": [
       "<IPython.core.display.Image object>"
      ]
     },
     "metadata": {},
     "output_type": "display_data"
    },
    {
     "name": "stdout",
     "output_type": "stream",
     "text": [
      "Site 10003 has a valid image with id: 4bdb01e7-e4a1-5279-b170-9536f36913db\n"
     ]
    },
    {
     "data": {
      "text/html": [
       "<img src=\"https://catalogue.dataspace.copernicus.eu/get-object?path=/Sentinel-2/MSI/L1C/2022/01/25/S2B_MSIL1C_20220125T105229_N0400_R051_T31TCJ_20220125T133326.SAFE/S2B_MSIL1C_20220125T105229_N0400_R051_T31TCJ_20220125T133326-ql.jpg\"/>"
      ],
      "text/plain": [
       "<IPython.core.display.Image object>"
      ]
     },
     "metadata": {},
     "output_type": "display_data"
    },
    {
     "name": "stdout",
     "output_type": "stream",
     "text": [
      "Site 10003 has a valid image with id: 8d2cb599-666f-56f0-a625-6a2f712e8dff\n"
     ]
    },
    {
     "data": {
      "text/html": [
       "<img src=\"https://catalogue.dataspace.copernicus.eu/get-object?path=/Sentinel-2/MSI/L2A/2022/01/25/S2B_MSIL2A_20220125T105229_N0400_R051_T31TCJ_20220125T151458.SAFE/S2B_MSIL2A_20220125T105229_N0400_R051_T31TCJ_20220125T151458-ql.jpg\"/>"
      ],
      "text/plain": [
       "<IPython.core.display.Image object>"
      ]
     },
     "metadata": {},
     "output_type": "display_data"
    },
    {
     "name": "stdout",
     "output_type": "stream",
     "text": [
      "Site 10004 has a valid image with id: 2f680482-732f-5913-b4ce-62798d78fd3b\n"
     ]
    },
    {
     "data": {
      "text/html": [
       "<img src=\"https://catalogue.dataspace.copernicus.eu/get-object?path=/Sentinel-2/MSI/L2A/2022/07/18/S2A_MSIL2A_20220718T112131_N0400_R037_T30UUU_20220718T191406.SAFE/S2A_MSIL2A_20220718T112131_N0400_R037_T30UUU_20220718T191406-ql.jpg\"/>"
      ],
      "text/plain": [
       "<IPython.core.display.Image object>"
      ]
     },
     "metadata": {},
     "output_type": "display_data"
    },
    {
     "name": "stdout",
     "output_type": "stream",
     "text": [
      "Site 10004 has a valid image with id: 24f87785-959d-5ff3-b3b3-ef76930b0c17\n"
     ]
    },
    {
     "data": {
      "text/html": [
       "<img src=\"https://catalogue.dataspace.copernicus.eu/get-object?path=/Sentinel-2/MSI/L2A/2022/07/08/S2A_MSIL2A_20220708T112131_N0400_R037_T30UUU_20220708T173530.SAFE/S2A_MSIL2A_20220708T112131_N0400_R037_T30UUU_20220708T173530-ql.jpg\"/>"
      ],
      "text/plain": [
       "<IPython.core.display.Image object>"
      ]
     },
     "metadata": {},
     "output_type": "display_data"
    },
    {
     "name": "stdout",
     "output_type": "stream",
     "text": [
      "Site 10004 has a valid image with id: 63140013-61bc-5b74-bdc3-26320f378149\n"
     ]
    },
    {
     "data": {
      "text/html": [
       "<img src=\"https://catalogue.dataspace.copernicus.eu/get-object?path=/Sentinel-2/MSI/L1C/2022/07/08/S2A_MSIL1C_20220708T112131_N0400_R037_T30UUU_20220708T150142.SAFE/S2A_MSIL1C_20220708T112131_N0400_R037_T30UUU_20220708T150142-ql.jpg\"/>"
      ],
      "text/plain": [
       "<IPython.core.display.Image object>"
      ]
     },
     "metadata": {},
     "output_type": "display_data"
    },
    {
     "name": "stdout",
     "output_type": "stream",
     "text": [
      "Site 10004 has a valid image with id: c98cef7e-bd0d-5fb5-a076-b5cac635c1a9\n"
     ]
    },
    {
     "data": {
      "text/html": [
       "<img src=\"https://catalogue.dataspace.copernicus.eu/get-object?path=/Sentinel-2/MSI/L1C/2022/07/18/S2A_MSIL1C_20220718T112131_N0400_R037_T30UUU_20220718T164136.SAFE/S2A_MSIL1C_20220718T112131_N0400_R037_T30UUU_20220718T164136-ql.jpg\"/>"
      ],
      "text/plain": [
       "<IPython.core.display.Image object>"
      ]
     },
     "metadata": {},
     "output_type": "display_data"
    },
    {
     "name": "stdout",
     "output_type": "stream",
     "text": [
      "Site 10004 has a valid image with id: c6b9f1a2-51fd-53bf-ac1c-d37b8713305b\n"
     ]
    },
    {
     "data": {
      "text/html": [
       "<img src=\"https://catalogue.dataspace.copernicus.eu/get-object?path=/Sentinel-2/MSI/L2A/2022/08/07/S2A_MSIL2A_20220807T112131_N0400_R037_T30UUU_20220807T213355.SAFE/S2A_MSIL2A_20220807T112131_N0400_R037_T30UUU_20220807T213355-ql.jpg\"/>"
      ],
      "text/plain": [
       "<IPython.core.display.Image object>"
      ]
     },
     "metadata": {},
     "output_type": "display_data"
    },
    {
     "name": "stdout",
     "output_type": "stream",
     "text": [
      "Site 10004 has a valid image with id: f67edc8b-b0c8-5b06-8c2b-b3908b265ed2\n"
     ]
    },
    {
     "data": {
      "text/html": [
       "<img src=\"https://catalogue.dataspace.copernicus.eu/get-object?path=/Sentinel-2/MSI/L2A/2022/08/12/S2B_MSIL2A_20220812T112119_N0400_R037_T30UUU_20220812T124934.SAFE/S2B_MSIL2A_20220812T112119_N0400_R037_T30UUU_20220812T124934-ql.jpg\"/>"
      ],
      "text/plain": [
       "<IPython.core.display.Image object>"
      ]
     },
     "metadata": {},
     "output_type": "display_data"
    },
    {
     "name": "stdout",
     "output_type": "stream",
     "text": [
      "Site 10004 has a valid image with id: 5cc7e7ae-e16d-57be-83c0-40e24b76660b\n"
     ]
    },
    {
     "data": {
      "text/html": [
       "<img src=\"https://catalogue.dataspace.copernicus.eu/get-object?path=/Sentinel-2/MSI/L1C/2022/09/11/S2B_MSIL1C_20220911T112119_N0400_R037_T30UUU_20220911T120858.SAFE/S2B_MSIL1C_20220911T112119_N0400_R037_T30UUU_20220911T120858-ql.jpg\"/>"
      ],
      "text/plain": [
       "<IPython.core.display.Image object>"
      ]
     },
     "metadata": {},
     "output_type": "display_data"
    },
    {
     "name": "stdout",
     "output_type": "stream",
     "text": [
      "Site 10004 has a valid image with id: 0eedf788-506b-50a2-8ac6-01e7f22b21ae\n"
     ]
    },
    {
     "data": {
      "text/html": [
       "<img src=\"https://catalogue.dataspace.copernicus.eu/get-object?path=/Sentinel-2/MSI/L1C/2022/05/29/S2A_MSIL1C_20220529T112121_N0400_R037_T30UUU_20220529T150417.SAFE/S2A_MSIL1C_20220529T112121_N0400_R037_T30UUU_20220529T150417-ql.jpg\"/>"
      ],
      "text/plain": [
       "<IPython.core.display.Image object>"
      ]
     },
     "metadata": {},
     "output_type": "display_data"
    },
    {
     "name": "stdout",
     "output_type": "stream",
     "text": [
      "Site 10004 has a valid image with id: bf74b458-5152-5772-b1af-8cde931eff6c\n"
     ]
    },
    {
     "data": {
      "text/html": [
       "<img src=\"https://catalogue.dataspace.copernicus.eu/get-object?path=/Sentinel-2/MSI/L1C/2022/06/03/S2B_MSIL1C_20220603T112119_N0400_R037_T30UUU_20220603T120732.SAFE/S2B_MSIL1C_20220603T112119_N0400_R037_T30UUU_20220603T120732-ql.jpg\"/>"
      ],
      "text/plain": [
       "<IPython.core.display.Image object>"
      ]
     },
     "metadata": {},
     "output_type": "display_data"
    },
    {
     "name": "stdout",
     "output_type": "stream",
     "text": [
      "Site 10004 has a valid image with id: eeb84549-1732-53ef-80dd-5153ab7ff0e7\n"
     ]
    },
    {
     "data": {
      "text/html": [
       "<img src=\"https://catalogue.dataspace.copernicus.eu/get-object?path=/Sentinel-2/MSI/L1C/2022/06/13/S2B_MSIL1C_20220613T112119_N0400_R037_T30UUU_20220613T120613.SAFE/S2B_MSIL1C_20220613T112119_N0400_R037_T30UUU_20220613T120613-ql.jpg\"/>"
      ],
      "text/plain": [
       "<IPython.core.display.Image object>"
      ]
     },
     "metadata": {},
     "output_type": "display_data"
    },
    {
     "name": "stdout",
     "output_type": "stream",
     "text": [
      "Site 10004 has a valid image with id: 86684709-c75a-56c0-b48e-32c92080711a\n"
     ]
    },
    {
     "data": {
      "text/html": [
       "<img src=\"https://catalogue.dataspace.copernicus.eu/get-object?path=/Sentinel-2/MSI/L2A/2022/06/13/S2B_MSIL2A_20220613T112119_N0400_R037_T30UUU_20220613T131345.SAFE/S2B_MSIL2A_20220613T112119_N0400_R037_T30UUU_20220613T131345-ql.jpg\"/>"
      ],
      "text/plain": [
       "<IPython.core.display.Image object>"
      ]
     },
     "metadata": {},
     "output_type": "display_data"
    },
    {
     "name": "stdout",
     "output_type": "stream",
     "text": [
      "Site 10004 has a valid image with id: f83947ed-9759-5eaa-b272-230c46c25070\n"
     ]
    },
    {
     "data": {
      "text/html": [
       "<img src=\"https://catalogue.dataspace.copernicus.eu/get-object?path=/Sentinel-2/MSI/L2A/2022/03/25/S2B_MSIL2A_20220325T112109_N0400_R037_T30UUU_20220325T145051.SAFE/S2B_MSIL2A_20220325T112109_N0400_R037_T30UUU_20220325T145051-ql.jpg\"/>"
      ],
      "text/plain": [
       "<IPython.core.display.Image object>"
      ]
     },
     "metadata": {},
     "output_type": "display_data"
    },
    {
     "name": "stdout",
     "output_type": "stream",
     "text": [
      "Site 10004 has a valid image with id: 59fdc9ee-d8a0-5f0f-9540-e02d87267709\n"
     ]
    },
    {
     "data": {
      "text/html": [
       "<img src=\"https://catalogue.dataspace.copernicus.eu/get-object?path=/Sentinel-2/MSI/L1C/2022/03/10/S2A_MSIL1C_20220310T112121_N0400_R037_T30UUU_20220310T134147.SAFE/S2A_MSIL1C_20220310T112121_N0400_R037_T30UUU_20220310T134147-ql.jpg\"/>"
      ],
      "text/plain": [
       "<IPython.core.display.Image object>"
      ]
     },
     "metadata": {},
     "output_type": "display_data"
    },
    {
     "name": "stdout",
     "output_type": "stream",
     "text": [
      "Site 10004 has a valid image with id: ac71fb64-ce4f-5c8a-80ef-b206f5d27e2e\n"
     ]
    },
    {
     "data": {
      "text/html": [
       "<img src=\"https://catalogue.dataspace.copernicus.eu/get-object?path=/Sentinel-2/MSI/L1C/2022/03/25/S2B_MSIL1C_20220325T112109_N0400_R037_T30UUU_20220325T133609.SAFE/S2B_MSIL1C_20220325T112109_N0400_R037_T30UUU_20220325T133609-ql.jpg\"/>"
      ],
      "text/plain": [
       "<IPython.core.display.Image object>"
      ]
     },
     "metadata": {},
     "output_type": "display_data"
    },
    {
     "name": "stdout",
     "output_type": "stream",
     "text": [
      "Site 10004 has a valid image with id: 7d5342b7-7902-5a4f-ac76-d6a31e173b3d\n"
     ]
    },
    {
     "data": {
      "text/html": [
       "<img src=\"https://catalogue.dataspace.copernicus.eu/get-object?path=/Sentinel-2/MSI/L2A/2022/03/25/S2B_MSIL2A_20220325T112109_N0400_R037_T30UUU_20220325T130020.SAFE/S2B_MSIL2A_20220325T112109_N0400_R037_T30UUU_20220325T130020-ql.jpg\"/>"
      ],
      "text/plain": [
       "<IPython.core.display.Image object>"
      ]
     },
     "metadata": {},
     "output_type": "display_data"
    },
    {
     "name": "stdout",
     "output_type": "stream",
     "text": [
      "Site 10004 has a valid image with id: 45f7f344-3a43-57d9-a674-101a2b7ea5d7\n"
     ]
    },
    {
     "data": {
      "text/html": [
       "<img src=\"https://catalogue.dataspace.copernicus.eu/get-object?path=/Sentinel-2/MSI/L1C/2022/08/12/S2B_MSIL1C_20220812T112119_N0400_R037_T30UUU_20220812T120820.SAFE/S2B_MSIL1C_20220812T112119_N0400_R037_T30UUU_20220812T120820-ql.jpg\"/>"
      ],
      "text/plain": [
       "<IPython.core.display.Image object>"
      ]
     },
     "metadata": {},
     "output_type": "display_data"
    },
    {
     "name": "stdout",
     "output_type": "stream",
     "text": [
      "Site 10004 has a valid image with id: 4f9603f0-a470-598b-84e1-c0a72b61cc6e\n"
     ]
    },
    {
     "data": {
      "text/html": [
       "<img src=\"https://catalogue.dataspace.copernicus.eu/get-object?path=/Sentinel-2/MSI/L1C/2022/08/07/S2A_MSIL1C_20220807T112131_N0400_R037_T30UUU_20220807T145932.SAFE/S2A_MSIL1C_20220807T112131_N0400_R037_T30UUU_20220807T145932-ql.jpg\"/>"
      ],
      "text/plain": [
       "<IPython.core.display.Image object>"
      ]
     },
     "metadata": {},
     "output_type": "display_data"
    },
    {
     "name": "stdout",
     "output_type": "stream",
     "text": [
      "Site 10004 has a valid image with id: 44997ebc-feb2-5ef7-9e6e-71e3d73c2081\n"
     ]
    },
    {
     "data": {
      "text/html": [
       "<img src=\"https://catalogue.dataspace.copernicus.eu/get-object?path=/Sentinel-2/MSI/L1C/2022/04/09/S2A_MSIL1C_20220409T112121_N0400_R037_T30UUU_20220409T134815.SAFE/S2A_MSIL1C_20220409T112121_N0400_R037_T30UUU_20220409T134815-ql.jpg\"/>"
      ],
      "text/plain": [
       "<IPython.core.display.Image object>"
      ]
     },
     "metadata": {},
     "output_type": "display_data"
    },
    {
     "name": "stdout",
     "output_type": "stream",
     "text": [
      "Site 10004 has a valid image with id: 01ef8e8e-d614-5d12-bb9b-4836f3bcbd4d\n"
     ]
    },
    {
     "data": {
      "text/html": [
       "<img src=\"https://catalogue.dataspace.copernicus.eu/get-object?path=/Sentinel-2/MSI/L1C/2022/05/24/S2B_MSIL1C_20220524T112119_N0400_R037_T30UUU_20220524T121237.SAFE/S2B_MSIL1C_20220524T112119_N0400_R037_T30UUU_20220524T121237-ql.jpg\"/>"
      ],
      "text/plain": [
       "<IPython.core.display.Image object>"
      ]
     },
     "metadata": {},
     "output_type": "display_data"
    },
    {
     "name": "stdout",
     "output_type": "stream",
     "text": [
      "Site 10004 has a valid image with id: 47a6f6c9-3c70-5ebe-9a07-4ccb7720806d\n"
     ]
    },
    {
     "data": {
      "text/html": [
       "<img src=\"https://catalogue.dataspace.copernicus.eu/get-object?path=/Sentinel-2/MSI/L2A/2022/05/29/S2A_MSIL2A_20220529T112121_N0400_R037_T30UUU_20220529T174211.SAFE/S2A_MSIL2A_20220529T112121_N0400_R037_T30UUU_20220529T174211-ql.jpg\"/>"
      ],
      "text/plain": [
       "<IPython.core.display.Image object>"
      ]
     },
     "metadata": {},
     "output_type": "display_data"
    },
    {
     "name": "stdout",
     "output_type": "stream",
     "text": [
      "Site 10077 has a valid image with id: 8a61d12b-36ac-5527-b1cc-835b2799cdfb\n"
     ]
    },
    {
     "data": {
      "text/html": [
       "<img src=\"https://catalogue.dataspace.copernicus.eu/get-object?path=/Sentinel-2/MSI/L2A/2022/07/17/S2A_MSIL2A_20220717T100611_N0400_R022_T32TMM_20220717T162059.SAFE/S2A_MSIL2A_20220717T100611_N0400_R022_T32TMM_20220717T162059-ql.jpg\"/>"
      ],
      "text/plain": [
       "<IPython.core.display.Image object>"
      ]
     },
     "metadata": {},
     "output_type": "display_data"
    },
    {
     "name": "stdout",
     "output_type": "stream",
     "text": [
      "Site 10077 has a valid image with id: 431eedfa-4729-58cd-bad2-cbc0328dd0ce\n"
     ]
    },
    {
     "data": {
      "text/html": [
       "<img src=\"https://catalogue.dataspace.copernicus.eu/get-object?path=/Sentinel-2/MSI/L1C/2022/07/17/S2A_MSIL1C_20220717T100611_N0400_R022_T32TMM_20220717T135129.SAFE/S2A_MSIL1C_20220717T100611_N0400_R022_T32TMM_20220717T135129-ql.jpg\"/>"
      ],
      "text/plain": [
       "<IPython.core.display.Image object>"
      ]
     },
     "metadata": {},
     "output_type": "display_data"
    },
    {
     "name": "stdout",
     "output_type": "stream",
     "text": [
      "Site 10077 has a valid image with id: 3f4d811c-50dc-5c07-8ee2-3e2c9a0fed09\n"
     ]
    },
    {
     "data": {
      "text/html": [
       "<img src=\"https://catalogue.dataspace.copernicus.eu/get-object?path=/Sentinel-2/MSI/L2A/2022/07/05/S2B_MSIL2A_20220705T101559_N0400_R065_T32TMM_20220705T131726.SAFE/S2B_MSIL2A_20220705T101559_N0400_R065_T32TMM_20220705T131726-ql.jpg\"/>"
      ],
      "text/plain": [
       "<IPython.core.display.Image object>"
      ]
     },
     "metadata": {},
     "output_type": "display_data"
    },
    {
     "name": "stdout",
     "output_type": "stream",
     "text": [
      "Site 10077 has a valid image with id: cf68010f-32af-5550-807f-d391ebd158a2\n"
     ]
    },
    {
     "data": {
      "text/html": [
       "<img src=\"https://catalogue.dataspace.copernicus.eu/get-object?path=/Sentinel-2/MSI/L1C/2022/07/05/S2B_MSIL1C_20220705T101559_N0400_R065_T32TMM_20220705T123007.SAFE/S2B_MSIL1C_20220705T101559_N0400_R065_T32TMM_20220705T123007-ql.jpg\"/>"
      ],
      "text/plain": [
       "<IPython.core.display.Image object>"
      ]
     },
     "metadata": {},
     "output_type": "display_data"
    },
    {
     "name": "stdout",
     "output_type": "stream",
     "text": [
      "Site 10077 has a valid image with id: dadef606-926b-5d7c-a24c-2a6c10a1cd07\n"
     ]
    },
    {
     "data": {
      "text/html": [
       "<img src=\"https://catalogue.dataspace.copernicus.eu/get-object?path=/Sentinel-2/MSI/L2A/2022/07/15/S2B_MSIL2A_20220715T101559_N0400_R065_T32TMM_20220715T133111.SAFE/S2B_MSIL2A_20220715T101559_N0400_R065_T32TMM_20220715T133111-ql.jpg\"/>"
      ],
      "text/plain": [
       "<IPython.core.display.Image object>"
      ]
     },
     "metadata": {},
     "output_type": "display_data"
    },
    {
     "name": "stdout",
     "output_type": "stream",
     "text": [
      "Site 10077 has a valid image with id: abc71ddf-200c-546f-95f3-4d218b06d281\n"
     ]
    },
    {
     "data": {
      "text/html": [
       "<img src=\"https://catalogue.dataspace.copernicus.eu/get-object?path=/Sentinel-2/MSI/L1C/2022/07/15/S2B_MSIL1C_20220715T101559_N0400_R065_T32TMM_20220715T122556.SAFE/S2B_MSIL1C_20220715T101559_N0400_R065_T32TMM_20220715T122556-ql.jpg\"/>"
      ],
      "text/plain": [
       "<IPython.core.display.Image object>"
      ]
     },
     "metadata": {},
     "output_type": "display_data"
    },
    {
     "name": "stdout",
     "output_type": "stream",
     "text": [
      "Site 10077 has a valid image with id: 1636765a-a59d-5108-a20d-5946964426f2\n"
     ]
    },
    {
     "data": {
      "text/html": [
       "<img src=\"https://catalogue.dataspace.copernicus.eu/get-object?path=/Sentinel-2/MSI/L1C/2022/07/07/S2A_MSIL1C_20220707T100611_N0400_R022_T32TMM_20220707T135321.SAFE/S2A_MSIL1C_20220707T100611_N0400_R022_T32TMM_20220707T135321-ql.jpg\"/>"
      ],
      "text/plain": [
       "<IPython.core.display.Image object>"
      ]
     },
     "metadata": {},
     "output_type": "display_data"
    },
    {
     "name": "stdout",
     "output_type": "stream",
     "text": [
      "Site 10077 has a valid image with id: 2f3c0e8b-3484-55be-bb27-9ceaf9b3835d\n"
     ]
    },
    {
     "data": {
      "text/html": [
       "<img src=\"https://catalogue.dataspace.copernicus.eu/get-object?path=/Sentinel-2/MSI/L2A/2022/07/07/S2A_MSIL2A_20220707T100611_N0400_R022_T32TMM_20220707T162905.SAFE/S2A_MSIL2A_20220707T100611_N0400_R022_T32TMM_20220707T162905-ql.jpg\"/>"
      ],
      "text/plain": [
       "<IPython.core.display.Image object>"
      ]
     },
     "metadata": {},
     "output_type": "display_data"
    },
    {
     "name": "stdout",
     "output_type": "stream",
     "text": [
      "Site 10077 has a valid image with id: 3bc2fcac-3997-564b-9d1e-b1e3cd23c5f0\n"
     ]
    },
    {
     "data": {
      "text/html": [
       "<img src=\"https://catalogue.dataspace.copernicus.eu/get-object?path=/Sentinel-2/MSI/L1C/2022/07/10/S2A_MSIL1C_20220710T101611_N0400_R065_T32TMM_20220710T140211.SAFE/S2A_MSIL1C_20220710T101611_N0400_R065_T32TMM_20220710T140211-ql.jpg\"/>"
      ],
      "text/plain": [
       "<IPython.core.display.Image object>"
      ]
     },
     "metadata": {},
     "output_type": "display_data"
    },
    {
     "name": "stdout",
     "output_type": "stream",
     "text": [
      "Site 10077 has a valid image with id: b706c37c-d584-5caf-a11e-10a66223d42b\n"
     ]
    },
    {
     "data": {
      "text/html": [
       "<img src=\"https://catalogue.dataspace.copernicus.eu/get-object?path=/Sentinel-2/MSI/L2A/2022/07/10/S2A_MSIL2A_20220710T101611_N0400_R065_T32TMM_20220710T165533.SAFE/S2A_MSIL2A_20220710T101611_N0400_R065_T32TMM_20220710T165533-ql.jpg\"/>"
      ],
      "text/plain": [
       "<IPython.core.display.Image object>"
      ]
     },
     "metadata": {},
     "output_type": "display_data"
    },
    {
     "name": "stdout",
     "output_type": "stream",
     "text": [
      "Site 10077 has a valid image with id: ba693bc5-52c6-50c4-a2fb-f54cba221a85\n"
     ]
    },
    {
     "data": {
      "text/html": [
       "<img src=\"https://catalogue.dataspace.copernicus.eu/get-object?path=/Sentinel-2/MSI/L2A/2022/07/27/S2A_MSIL2A_20220727T100601_N0400_R022_T32TMM_20220727T162759.SAFE/S2A_MSIL2A_20220727T100601_N0400_R022_T32TMM_20220727T162759-ql.jpg\"/>"
      ],
      "text/plain": [
       "<IPython.core.display.Image object>"
      ]
     },
     "metadata": {},
     "output_type": "display_data"
    },
    {
     "name": "stdout",
     "output_type": "stream",
     "text": [
      "Site 10077 has a valid image with id: 1ee1b546-22e2-5a08-ab97-218c9e900f28\n"
     ]
    },
    {
     "data": {
      "text/html": [
       "<img src=\"https://catalogue.dataspace.copernicus.eu/get-object?path=/Sentinel-2/MSI/L1C/2022/07/12/S2B_MSIL1C_20220712T100559_N0400_R022_T32TMM_20220712T135439.SAFE/S2B_MSIL1C_20220712T100559_N0400_R022_T32TMM_20220712T135439-ql.jpg\"/>"
      ],
      "text/plain": [
       "<IPython.core.display.Image object>"
      ]
     },
     "metadata": {},
     "output_type": "display_data"
    },
    {
     "name": "stdout",
     "output_type": "stream",
     "text": [
      "Site 10077 has a valid image with id: 26ecd5f8-76ca-5f16-a689-730a90e2dabd\n"
     ]
    },
    {
     "data": {
      "text/html": [
       "<img src=\"https://catalogue.dataspace.copernicus.eu/get-object?path=/Sentinel-2/MSI/L2A/2022/07/12/S2B_MSIL2A_20220712T100559_N0400_R022_T32TMM_20220712T144227.SAFE/S2B_MSIL2A_20220712T100559_N0400_R022_T32TMM_20220712T144227-ql.jpg\"/>"
      ],
      "text/plain": [
       "<IPython.core.display.Image object>"
      ]
     },
     "metadata": {},
     "output_type": "display_data"
    },
    {
     "name": "stdout",
     "output_type": "stream",
     "text": [
      "Site 10077 has a valid image with id: 83eb2e77-7e1f-5947-bb82-0aab51773ba3\n"
     ]
    },
    {
     "data": {
      "text/html": [
       "<img src=\"https://catalogue.dataspace.copernicus.eu/get-object?path=/Sentinel-2/MSI/L1C/2022/07/20/S2A_MSIL1C_20220720T101611_N0400_R065_T32TMM_20220720T140828.SAFE/S2A_MSIL1C_20220720T101611_N0400_R065_T32TMM_20220720T140828-ql.jpg\"/>"
      ],
      "text/plain": [
       "<IPython.core.display.Image object>"
      ]
     },
     "metadata": {},
     "output_type": "display_data"
    },
    {
     "name": "stdout",
     "output_type": "stream",
     "text": [
      "Site 10077 has a valid image with id: 113c6634-9ff7-59c6-b125-ec5ca106e6a7\n"
     ]
    },
    {
     "data": {
      "text/html": [
       "<img src=\"https://catalogue.dataspace.copernicus.eu/get-object?path=/Sentinel-2/MSI/L2A/2022/07/20/S2A_MSIL2A_20220720T101611_N0400_R065_T32TMM_20220720T164302.SAFE/S2A_MSIL2A_20220720T101611_N0400_R065_T32TMM_20220720T164302-ql.jpg\"/>"
      ],
      "text/plain": [
       "<IPython.core.display.Image object>"
      ]
     },
     "metadata": {},
     "output_type": "display_data"
    },
    {
     "name": "stdout",
     "output_type": "stream",
     "text": [
      "Site 10077 has a valid image with id: 038ceff1-ee5b-5bce-b349-f32f5c12796b\n"
     ]
    },
    {
     "data": {
      "text/html": [
       "<img src=\"https://catalogue.dataspace.copernicus.eu/get-object?path=/Sentinel-2/MSI/L1C/2022/07/22/S2B_MSIL1C_20220722T100559_N0400_R022_T32TMM_20220722T121536.SAFE/S2B_MSIL1C_20220722T100559_N0400_R022_T32TMM_20220722T121536-ql.jpg\"/>"
      ],
      "text/plain": [
       "<IPython.core.display.Image object>"
      ]
     },
     "metadata": {},
     "output_type": "display_data"
    },
    {
     "name": "stdout",
     "output_type": "stream",
     "text": [
      "Site 10077 has a valid image with id: 4f4e8ec8-6a88-5b40-a298-03bbdeecf3cb\n"
     ]
    },
    {
     "data": {
      "text/html": [
       "<img src=\"https://catalogue.dataspace.copernicus.eu/get-object?path=/Sentinel-2/MSI/L2A/2022/07/22/S2B_MSIL2A_20220722T100559_N0400_R022_T32TMM_20220722T130911.SAFE/S2B_MSIL2A_20220722T100559_N0400_R022_T32TMM_20220722T130911-ql.jpg\"/>"
      ],
      "text/plain": [
       "<IPython.core.display.Image object>"
      ]
     },
     "metadata": {},
     "output_type": "display_data"
    },
    {
     "name": "stdout",
     "output_type": "stream",
     "text": [
      "Site 10077 has a valid image with id: f38e5985-6edb-5564-8c42-1425c399cfce\n"
     ]
    },
    {
     "data": {
      "text/html": [
       "<img src=\"https://catalogue.dataspace.copernicus.eu/get-object?path=/Sentinel-2/MSI/L1C/2022/07/25/S2B_MSIL1C_20220725T101559_N0400_R065_T32TMM_20220725T122447.SAFE/S2B_MSIL1C_20220725T101559_N0400_R065_T32TMM_20220725T122447-ql.jpg\"/>"
      ],
      "text/plain": [
       "<IPython.core.display.Image object>"
      ]
     },
     "metadata": {},
     "output_type": "display_data"
    },
    {
     "name": "stdout",
     "output_type": "stream",
     "text": [
      "Site 10077 has a valid image with id: 262c95df-774c-55bd-9d28-5d5c26798b08\n"
     ]
    },
    {
     "data": {
      "text/html": [
       "<img src=\"https://catalogue.dataspace.copernicus.eu/get-object?path=/Sentinel-2/MSI/L2A/2022/07/25/S2B_MSIL2A_20220725T101559_N0400_R065_T32TMM_20220725T132135.SAFE/S2B_MSIL2A_20220725T101559_N0400_R065_T32TMM_20220725T132135-ql.jpg\"/>"
      ],
      "text/plain": [
       "<IPython.core.display.Image object>"
      ]
     },
     "metadata": {},
     "output_type": "display_data"
    },
    {
     "name": "stdout",
     "output_type": "stream",
     "text": [
      "Site 10077 has a valid image with id: 5d1a0251-9dda-5ffc-9fdf-6e229038b788\n"
     ]
    },
    {
     "data": {
      "text/html": [
       "<img src=\"https://catalogue.dataspace.copernicus.eu/get-object?path=/Sentinel-2/MSI/L1C/2022/07/27/S2A_MSIL1C_20220727T100601_N0400_R022_T32TMM_20220727T135018.SAFE/S2A_MSIL1C_20220727T100601_N0400_R022_T32TMM_20220727T135018-ql.jpg\"/>"
      ],
      "text/plain": [
       "<IPython.core.display.Image object>"
      ]
     },
     "metadata": {},
     "output_type": "display_data"
    },
    {
     "name": "stdout",
     "output_type": "stream",
     "text": [
      "Site 10202 has a valid image with id: ffcb5df4-d22c-545a-99e0-5998f012de85\n"
     ]
    },
    {
     "data": {
      "text/html": [
       "<img src=\"https://catalogue.dataspace.copernicus.eu/get-object?path=/Sentinel-2/MSI/L1C/2022/04/19/S2A_MSIL1C_20220419T130301_N0400_R038_T27WVM_20220419T150752.SAFE/S2A_MSIL1C_20220419T130301_N0400_R038_T27WVM_20220419T150752-ql.jpg\"/>"
      ],
      "text/plain": [
       "<IPython.core.display.Image object>"
      ]
     },
     "metadata": {},
     "output_type": "display_data"
    },
    {
     "name": "stdout",
     "output_type": "stream",
     "text": [
      "Site 10202 has a valid image with id: e259bada-8c84-5f55-aeca-e4376eecf5d5\n"
     ]
    },
    {
     "data": {
      "text/html": [
       "<img src=\"https://catalogue.dataspace.copernicus.eu/get-object?path=/Sentinel-2/MSI/L2A/2022/04/19/S2A_MSIL2A_20220419T130301_N0400_R038_T27WVM_20220419T155627.SAFE/S2A_MSIL2A_20220419T130301_N0400_R038_T27WVM_20220419T155627-ql.jpg\"/>"
      ],
      "text/plain": [
       "<IPython.core.display.Image object>"
      ]
     },
     "metadata": {},
     "output_type": "display_data"
    },
    {
     "name": "stdout",
     "output_type": "stream",
     "text": [
      "Site 10202 has a valid image with id: a9ef7679-f2b5-5eaa-8de2-2c42e403495a\n"
     ]
    },
    {
     "data": {
      "text/html": [
       "<img src=\"https://catalogue.dataspace.copernicus.eu/get-object?path=/Sentinel-2/MSI/L1C/2022/05/29/S2A_MSIL1C_20220529T130311_N0400_R038_T27WVM_20220529T182017.SAFE/S2A_MSIL1C_20220529T130311_N0400_R038_T27WVM_20220529T182017-ql.jpg\"/>"
      ],
      "text/plain": [
       "<IPython.core.display.Image object>"
      ]
     },
     "metadata": {},
     "output_type": "display_data"
    }
   ],
   "source": [
    "# Display images for only 5 sites\n",
    "for site_id, images in instruments_dissolved['images'].head(5).items():\n",
    "    if not isinstance(images, list):\n",
    "        print(f\"Site {site_id} does not have a list of images.\")\n",
    "    else:\n",
    "        for image in images:\n",
    "            if not isinstance(image, dict):\n",
    "                print(f\"Site {site_id} has an image that is not a dictionary.\")\n",
    "            elif 'type' not in image or 'id' not in image or 'geometry' not in image or 'properties' not in image:\n",
    "                print(f\"Site {site_id} has an image with missing keys.\")\n",
    "            else:\n",
    "                print(f\"Site {site_id} has a valid image with id: {image['id']}\")\n",
    "                if 'thumbnail' in image['properties']:\n",
    "                    display(Image(url=image['properties']['thumbnail']))\n"
   ]
  },
  {
   "cell_type": "code",
   "execution_count": 22,
   "metadata": {},
   "outputs": [],
   "source": [
    "images = instruments_dissolved['Polygon'].apply(request_images)\n",
    "# images = request_images(wkt_geometry)"
   ]
  }
 ],
 "metadata": {
  "kernelspec": {
   "display_name": "Python 3 (ipykernel)",
   "language": "python",
   "name": "python3"
  },
  "language_info": {
   "codemirror_mode": {
    "name": "ipython",
    "version": 3
   },
   "file_extension": ".py",
   "mimetype": "text/x-python",
   "name": "python",
   "nbconvert_exporter": "python",
   "pygments_lexer": "ipython3",
   "version": "3.11.8"
  }
 },
 "nbformat": 4,
 "nbformat_minor": 2
}
